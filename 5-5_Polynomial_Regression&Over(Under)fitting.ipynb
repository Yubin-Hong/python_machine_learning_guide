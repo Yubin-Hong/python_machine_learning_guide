{
 "cells": [
  {
   "cell_type": "markdown",
   "metadata": {},
   "source": [
    "## Polynomial Regression & Overfitting/Underfitting"
   ]
  },
  {
   "cell_type": "markdown",
   "metadata": {},
   "source": [
    "### Introduction to Polynomial Regression"
   ]
  },
  {
   "cell_type": "markdown",
   "metadata": {},
   "source": [
    "Scikit-Learn does not explicitly provide Polynomial Regression Classes.  \n",
    "Instead, we build polynomial regression model by applying non-linear function into linear regression model.  \n",
    "With sklearn.preprocessing class PolynomialFeatures, we transform singular features into polynomial features."
   ]
  },
  {
   "cell_type": "code",
   "execution_count": 1,
   "metadata": {},
   "outputs": [
    {
     "name": "stdout",
     "output_type": "stream",
     "text": [
      "One-Dimension Singular Coefficient Feature:\n",
      "\n",
      "[[0 1]\n",
      " [2 3]\n",
      " [4 5]]\n",
      "Transformed 2D Polynomial Coefficent Feature:\n",
      "[[ 1.  0.  1.  0.  0.  1.]\n",
      " [ 1.  2.  3.  4.  6.  9.]\n",
      " [ 1.  4.  5. 16. 20. 25.]]\n"
     ]
    }
   ],
   "source": [
    "from sklearn.preprocessing import PolynomialFeatures\n",
    "import numpy as np\n",
    "\n",
    "# Linear Singular Feature X\n",
    "X = np.arange(6).reshape(3,2)\n",
    "print('One-Dimension Singular Coefficient Feature:\\n')\n",
    "print(X)\n",
    "\n",
    "# Transform X into Two-Demension Polynomial Feature\n",
    "# degree=2: [x1, x2] -> [1, x1, x2, x1**2, x1*x2, x2**2]\n",
    "poly = PolynomialFeatures(degree=2)\n",
    "poly.fit(X)                         # Can use poly_feature = poly.fit_transform(X)\n",
    "poly_feature = poly.transform(X)\n",
    "print('Transformed 2D Polynomial Coefficent Feature:')\n",
    "print(poly_feature)"
   ]
  },
  {
   "cell_type": "code",
   "execution_count": 4,
   "metadata": {},
   "outputs": [
    {
     "name": "stdout",
     "output_type": "stream",
     "text": [
      " Singular Coefficients:\n",
      "[[0 1]\n",
      " [2 3]\n",
      " [4 5]]\n",
      "Cubic Polynomial Value:\n",
      "[  5 125 557]\n"
     ]
    }
   ],
   "source": [
    "# make func. y = 1 + 2X(1) + 3X(1)^2 + 4X(2)^3\n",
    "def polynomial_func(X):\n",
    "    y = 1+2*X[:,0] + 3*X[:,0]**2 + 4*X[:,1]**3\n",
    "    return y\n",
    "\n",
    "X = np.arange(6).reshape(3,2)\n",
    "print('Linear Singular Feature X:')\n",
    "print(X)\n",
    "\n",
    "# Cubic Polynomial Decision Value\n",
    "y = polynomial_func(X)\n",
    "print('Cubic Polynomial Feature y:')\n",
    "print(y)"
   ]
  },
  {
   "cell_type": "code",
   "execution_count": 5,
   "metadata": {},
   "outputs": [
    {
     "name": "stdout",
     "output_type": "stream",
     "text": [
      "Cubic Polynomial Coefficients:\n",
      "[[  1.   0.   1.   0.   0.   1.   0.   0.   0.   1.]\n",
      " [  1.   2.   3.   4.   6.   9.   8.  12.  18.  27.]\n",
      " [  1.   4.   5.  16.  20.  25.  64.  80. 100. 125.]]\n",
      "Polynomial Regression Coefficients\n",
      "[ 0.    0.47  0.47  0.57  1.04  1.51 -0.3   0.27  1.31  2.81]\n"
     ]
    }
   ],
   "source": [
    "# Transform X into Cubic Polynomial Feature\n",
    "poly= PolynomialFeatures(degree=3)\n",
    "poly_feature = poly.fit_transform(X)\n",
    "print('Cubic Polynomial Coefficients:')\n",
    "print(poly_feature)\n",
    "\n",
    "from sklearn.linear_model import LinearRegression\n",
    "# Linear Regression Model with transformed features and Cubic Polynomial Decision Value\n",
    "model = LinearRegression()\n",
    "model.fit(poly_feature, y)\n",
    "\n",
    "print('Polynomial Regression Coefficients')\n",
    "print(np.round(model.coef_, 2))\n",
    "print('Real Function Coefficients:')\n",
    "print([1,])"
   ]
  },
  {
   "cell_type": "code",
   "execution_count": null,
   "metadata": {},
   "outputs": [],
   "source": []
  }
 ],
 "metadata": {
  "kernelspec": {
   "display_name": "Python 3.9.12 ('base')",
   "language": "python",
   "name": "python3"
  },
  "language_info": {
   "codemirror_mode": {
    "name": "ipython",
    "version": 3
   },
   "file_extension": ".py",
   "mimetype": "text/x-python",
   "name": "python",
   "nbconvert_exporter": "python",
   "pygments_lexer": "ipython3",
   "version": "3.9.12"
  },
  "orig_nbformat": 4,
  "vscode": {
   "interpreter": {
    "hash": "a077222d77dfe082b8f1dd562ad70e458ac2ab76993a0b248ab0476e32e9e8dd"
   }
  }
 },
 "nbformat": 4,
 "nbformat_minor": 2
}
