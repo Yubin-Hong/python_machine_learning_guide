{
 "cells": [
  {
   "cell_type": "markdown",
   "metadata": {},
   "source": [
    "## Logistic Regression"
   ]
  },
  {
   "cell_type": "markdown",
   "metadata": {},
   "source": [
    "Applied linear regression method to Classification.  \n",
    "Logistic Regression does not find optimal regression linear function, but find optimal Sigmoid function and use sigmoid function return value for classification.  \n",
    "Sigmoid Function: 1/(1+e^(-x)) < Return value in (0,1)  "
   ]
  },
  {
   "cell_type": "code",
   "execution_count": 1,
   "metadata": {},
   "outputs": [],
   "source": [
    "import pandas as pd\n",
    "import matplotlib.pyplot as plt\n",
    "%matplotlib inline\n",
    "\n",
    "from sklearn.datasets import load_breast_cancer\n",
    "from sklearn.linear_model import LogisticRegression\n",
    "\n",
    "cancer = load_breast_cancer()"
   ]
  },
  {
   "cell_type": "code",
   "execution_count": 2,
   "metadata": {},
   "outputs": [
    {
     "name": "stdout",
     "output_type": "stream",
     "text": [
      "Accuracy: 0.977\n",
      "ROC_AUC: 0.972\n"
     ]
    }
   ],
   "source": [
    "from sklearn.preprocessing import StandardScaler\n",
    "from sklearn.model_selection import train_test_split\n",
    "from sklearn.metrics import accuracy_score, roc_auc_score\n",
    "\n",
    "scaler = StandardScaler()\n",
    "scaled_data = scaler.fit_transform(cancer.data)\n",
    "\n",
    "X_train , X_test, y_train , y_test = train_test_split(scaled_data, cancer.target, test_size=0.3, random_state=0)\n",
    "\n",
    "LR = LogisticRegression()\n",
    "LR.fit(X_train, y_train)\n",
    "preds = LR.predict(X_test)\n",
    "\n",
    "# accuracy와 roc_auc 측정\n",
    "print('Accuracy: {:0.3f}'.format(accuracy_score(y_test, preds)))\n",
    "print('ROC_AUC: {:0.3f}'.format(roc_auc_score(y_test , preds)))"
   ]
  },
  {
   "cell_type": "markdown",
   "metadata": {},
   "source": [
    "Hyperparameter for Logistic Regression  \n",
    "1. penalty[Default=l2]: Select Regularization(L1 or L2)  \n",
    "2. C[Default=1]: inverse of alpha(regulation hyperparameter)"
   ]
  },
  {
   "cell_type": "code",
   "execution_count": 4,
   "metadata": {},
   "outputs": [
    {
     "name": "stdout",
     "output_type": "stream",
     "text": [
      "Optimal Hyperparameter:{'C': 0.1, 'penalty': 'l2'}\n",
      "Average of Accuracy:0.979\n"
     ]
    }
   ],
   "source": [
    "from sklearn.model_selection import GridSearchCV\n",
    "\n",
    "params={'penalty':['l2', 'l1'],\n",
    "        'C':[0.01, 0.1, 1, 5, 10]}\n",
    "\n",
    "LR = LogisticRegression(solver='liblinear')\n",
    "\n",
    "CV = GridSearchCV(LR, param_grid=params, scoring='accuracy', cv=3)\n",
    "CV.fit(scaled_data, cancer.target)\n",
    "print('Optimal Hyperparameter:{}'.format(CV.best_params_))\n",
    "print('Average of Accuracy:{:.3f}'.format(CV.best_score_))"
   ]
  },
  {
   "cell_type": "markdown",
   "metadata": {},
   "source": [
    "### Regression Tree"
   ]
  },
  {
   "cell_type": "code",
   "execution_count": 5,
   "metadata": {},
   "outputs": [
    {
     "name": "stderr",
     "output_type": "stream",
     "text": [
      "c:\\Users\\user\\anaconda3\\lib\\site-packages\\sklearn\\utils\\deprecation.py:87: FutureWarning: Function load_boston is deprecated; `load_boston` is deprecated in 1.0 and will be removed in 1.2.\n",
      "\n",
      "    The Boston housing prices dataset has an ethical problem. You can refer to\n",
      "    the documentation of this function for further details.\n",
      "\n",
      "    The scikit-learn maintainers therefore strongly discourage the use of this\n",
      "    dataset unless the purpose of the code is to study and educate about\n",
      "    ethical issues in data science and machine learning.\n",
      "\n",
      "    In this special case, you can fetch the dataset from the original\n",
      "    source::\n",
      "\n",
      "        import pandas as pd\n",
      "        import numpy as np\n",
      "\n",
      "\n",
      "        data_url = \"http://lib.stat.cmu.edu/datasets/boston\"\n",
      "        raw_df = pd.read_csv(data_url, sep=\"\\s+\", skiprows=22, header=None)\n",
      "        data = np.hstack([raw_df.values[::2, :], raw_df.values[1::2, :2]])\n",
      "        target = raw_df.values[1::2, 2]\n",
      "\n",
      "    Alternative datasets include the California housing dataset (i.e.\n",
      "    :func:`~sklearn.datasets.fetch_california_housing`) and the Ames housing\n",
      "    dataset. You can load the datasets as follows::\n",
      "\n",
      "        from sklearn.datasets import fetch_california_housing\n",
      "        housing = fetch_california_housing()\n",
      "\n",
      "    for the California housing dataset and::\n",
      "\n",
      "        from sklearn.datasets import fetch_openml\n",
      "        housing = fetch_openml(name=\"house_prices\", as_frame=True)\n",
      "\n",
      "    for the Ames housing dataset.\n",
      "    \n",
      "  warnings.warn(msg, category=FutureWarning)\n"
     ]
    },
    {
     "name": "stdout",
     "output_type": "stream",
     "text": [
      "MSE Scores for each 5 folds:  [ 7.8829 13.1431 20.5739 46.2259 18.8781]\n",
      "Mean of MSE Scores: 21.3408 \n",
      "RMSE Scores for each 5 folds:  [2.8076 3.6253 4.5358 6.799  4.3449]\n",
      "Mean of RMSE Scores: 4.4225 \n"
     ]
    }
   ],
   "source": [
    "from sklearn.ensemble import RandomForestRegressor\n",
    "from sklearn.datasets import load_boston\n",
    "from sklearn.model_selection import cross_val_score\n",
    "import numpy as np\n",
    "\n",
    "boston = load_boston()\n",
    "\n",
    "X_features = pd.DataFrame(boston.data, columns = boston.feature_names)\n",
    "y_target = pd.Series(boston.target, name='Price')\n",
    "\n",
    "RF_Reg = RandomForestRegressor(random_state=0, n_estimators=1000)\n",
    "\n",
    "neg_mse_scores = cross_val_score(RF_Reg, X_features, y_target, scoring=\"neg_mean_squared_error\", cv = 5)\n",
    "mse_scores = -1 * neg_mse_scores\n",
    "avg_mse = np.mean(mse_scores)\n",
    "rmse_scores  = np.sqrt(mse_scores)\n",
    "avg_rmse = np.mean(rmse_scores)\n",
    "\n",
    "print('MSE Scores for each 5 folds: ', np.round(mse_scores, 4))\n",
    "print('Mean of MSE Scores: {0:.4f} '.format(avg_mse))\n",
    "\n",
    "print('RMSE Scores for each 5 folds: ', np.round(rmse_scores, 4))\n",
    "print('Mean of RMSE Scores: {0:.4f} '.format(avg_rmse))\n"
   ]
  },
  {
   "cell_type": "code",
   "execution_count": 6,
   "metadata": {},
   "outputs": [],
   "source": [
    "def get_model_cv_prediction(model, X_features, y_target):\n",
    "    neg_mse_scores = cross_val_score(model, X_features, y_target, scoring=\"neg_mean_squared_error\", cv = 5)\n",
    "    mse_scores = -1 * neg_mse_scores\n",
    "    rmse_scores  = np.sqrt(mse_scores)\n",
    "    avg_rmse = np.mean(rmse_scores)\n",
    "    print('##### ',model.__class__.__name__ , ' #####')\n",
    "    print('Mean of RMSE Scores: {0:.3f} '.format(avg_rmse))"
   ]
  },
  {
   "cell_type": "code",
   "execution_count": 7,
   "metadata": {},
   "outputs": [
    {
     "name": "stderr",
     "output_type": "stream",
     "text": [
      "c:\\Users\\user\\anaconda3\\lib\\site-packages\\xgboost\\compat.py:36: FutureWarning: pandas.Int64Index is deprecated and will be removed from pandas in a future version. Use pandas.Index with the appropriate dtype instead.\n",
      "  from pandas import MultiIndex, Int64Index\n"
     ]
    },
    {
     "name": "stdout",
     "output_type": "stream",
     "text": [
      "#####  DecisionTreeRegressor  #####\n",
      "Mean of RMSE Scores: 5.978 \n",
      "#####  RandomForestRegressor  #####\n",
      "Mean of RMSE Scores: 4.423 \n",
      "#####  GradientBoostingRegressor  #####\n",
      "Mean of RMSE Scores: 4.269 \n"
     ]
    },
    {
     "name": "stderr",
     "output_type": "stream",
     "text": [
      "c:\\Users\\user\\anaconda3\\lib\\site-packages\\xgboost\\data.py:250: FutureWarning: pandas.Int64Index is deprecated and will be removed from pandas in a future version. Use pandas.Index with the appropriate dtype instead.\n",
      "  elif isinstance(data.columns, (pd.Int64Index, pd.RangeIndex)):\n",
      "c:\\Users\\user\\anaconda3\\lib\\site-packages\\xgboost\\data.py:250: FutureWarning: pandas.Int64Index is deprecated and will be removed from pandas in a future version. Use pandas.Index with the appropriate dtype instead.\n",
      "  elif isinstance(data.columns, (pd.Int64Index, pd.RangeIndex)):\n",
      "c:\\Users\\user\\anaconda3\\lib\\site-packages\\xgboost\\data.py:250: FutureWarning: pandas.Int64Index is deprecated and will be removed from pandas in a future version. Use pandas.Index with the appropriate dtype instead.\n",
      "  elif isinstance(data.columns, (pd.Int64Index, pd.RangeIndex)):\n",
      "c:\\Users\\user\\anaconda3\\lib\\site-packages\\xgboost\\data.py:250: FutureWarning: pandas.Int64Index is deprecated and will be removed from pandas in a future version. Use pandas.Index with the appropriate dtype instead.\n",
      "  elif isinstance(data.columns, (pd.Int64Index, pd.RangeIndex)):\n",
      "c:\\Users\\user\\anaconda3\\lib\\site-packages\\xgboost\\data.py:250: FutureWarning: pandas.Int64Index is deprecated and will be removed from pandas in a future version. Use pandas.Index with the appropriate dtype instead.\n",
      "  elif isinstance(data.columns, (pd.Int64Index, pd.RangeIndex)):\n"
     ]
    },
    {
     "name": "stdout",
     "output_type": "stream",
     "text": [
      "#####  XGBRegressor  #####\n",
      "Mean of RMSE Scores: 4.251 \n",
      "#####  LGBMRegressor  #####\n",
      "Mean of RMSE Scores: 4.646 \n"
     ]
    }
   ],
   "source": [
    "from sklearn.tree import DecisionTreeRegressor\n",
    "from sklearn.ensemble import GradientBoostingRegressor\n",
    "from xgboost import XGBRegressor\n",
    "from lightgbm import LGBMRegressor\n",
    "\n",
    "DT_Reg = DecisionTreeRegressor(max_depth=4)\n",
    "RF_Reg = RandomForestRegressor(n_estimators=1000)\n",
    "GB_Reg = GradientBoostingRegressor(n_estimators=1000)\n",
    "XGB_Reg = XGBRegressor(n_estimators=1000)\n",
    "LGBM_Reg = LGBMRegressor(n_estimators=1000)\n",
    "\n",
    "# 트리 기반의 회귀 모델을 반복하면서 평가 수행 \n",
    "models = [DT_Reg, RF_Reg, GB_Reg, XGB_Reg, LGBM_Reg]\n",
    "for model in models:  \n",
    "    get_model_cv_prediction(model, X_features, y_target)"
   ]
  },
  {
   "cell_type": "code",
   "execution_count": 8,
   "metadata": {},
   "outputs": [
    {
     "data": {
      "text/plain": [
       "<AxesSubplot:>"
      ]
     },
     "execution_count": 8,
     "metadata": {},
     "output_type": "execute_result"
    },
    {
     "data": {
      "image/png": "[encoded data removed]",
      "text/plain": [
       "<Figure size 432x288 with 1 Axes>"
      ]
     },
     "metadata": {
      "needs_background": "light"
     },
     "output_type": "display_data"
    }
   ],
   "source": [
    "import seaborn as sns\n",
    "%matplotlib inline\n",
    "\n",
    "RF_Reg = RandomForestRegressor(n_estimators=1000)\n",
    "  \n",
    "RF_Reg.fit(X_features, y_target)\n",
    "\n",
    "# Regression Tree does not have coef_ attribute. Use feature_importances\n",
    "feature_series = pd.Series(data=RF_Reg.feature_importances_, index=X_features.columns)\n",
    "feature_series = feature_series.sort_values(ascending=False)\n",
    "sns.barplot(x= feature_series, y=feature_series.index)\n"
   ]
  },
  {
   "cell_type": "markdown",
   "metadata": {},
   "source": [
    "### Difference between Linear Regression and Regression Tree"
   ]
  },
  {
   "cell_type": "code",
   "execution_count": 16,
   "metadata": {},
   "outputs": [
    {
     "name": "stdout",
     "output_type": "stream",
     "text": [
      "(100,)\n",
      "(100,)\n"
     ]
    },
    {
     "data": {
      "text/plain": [
       "<matplotlib.collections.PathCollection at 0x17159e1f460>"
      ]
     },
     "execution_count": 16,
     "metadata": {},
     "output_type": "execute_result"
    },
    {
     "data": {
      "image/png": "[encoded data removed]",
      "text/plain": [
       "<Figure size 432x288 with 1 Axes>"
      ]
     },
     "metadata": {
      "needs_background": "light"
     },
     "output_type": "display_data"
    }
   ],
   "source": [
    "sampling_index = X_features.sample(n=100).index\n",
    "RM_sample = X_features['RM'][sampling_index]\n",
    "print(RM_sample.shape)\n",
    "Price_sample = y_target[sampling_index]\n",
    "print(Price_sample.shape)\n",
    "\n",
    "plt.figure()\n",
    "plt.xlabel('RM')\n",
    "plt.ylabel('Price')\n",
    "plt.scatter(x=RM_sample, y=Price_sample, c='darkorange')"
   ]
  },
  {
   "cell_type": "code",
   "execution_count": 19,
   "metadata": {},
   "outputs": [],
   "source": [
    "from sklearn.linear_model import LinearRegression\n",
    "\n",
    "LR = LinearRegression()\n",
    "RF_2 = RandomForestRegressor(max_depth=2)\n",
    "RF_7 = RandomForestRegressor(max_depth=7)\n",
    "\n",
    "X_test = np.arange(4.5, 8.5, 0.04).reshape(-1,1)\n",
    "\n",
    "X_train = RM_sample.values.reshape(-1,1)\n",
    "y_train = Price_sample.values\n",
    "\n",
    "LR.fit(X_train, y_train)\n",
    "RF_2.fit(X_train, y_train)\n",
    "RF_7.fit(X_train, y_train)\n",
    "\n",
    "pred_LR = LR.predict(X_test)\n",
    "pred_RF_2 = RF_2.predict(X_test)\n",
    "pred_RF_7 = RF_7.predict(X_test)"
   ]
  },
  {
   "cell_type": "code",
   "execution_count": 20,
   "metadata": {},
   "outputs": [
    {
     "data": {
      "text/plain": [
       "[<matplotlib.lines.Line2D at 0x1715be48b50>]"
      ]
     },
     "execution_count": 20,
     "metadata": {},
     "output_type": "execute_result"
    },
    {
     "data": {
      "image/png": "[encoded data removed]",
      "text/plain": [
       "<Figure size 1008x288 with 3 Axes>"
      ]
     },
     "metadata": {
      "needs_background": "light"
     },
     "output_type": "display_data"
    }
   ],
   "source": [
    "fig , (ax1, ax2, ax3) = plt.subplots(figsize=(14,4), ncols=3)\n",
    "\n",
    "ax1.set_title('Linear Regression')\n",
    "ax1.scatter(RM_sample, Price_sample, c=\"darkorange\")\n",
    "ax1.plot(X_test, pred_LR,label=\"linear\", linewidth=2 )\n",
    " \n",
    "ax2.set_title('Decision Tree Regression: \\n max_depth=2')\n",
    "ax2.scatter(RM_sample, Price_sample, c=\"darkorange\")\n",
    "ax2.plot(X_test, pred_RF_2, label=\"max_depth:3\", linewidth=2 )\n",
    "\n",
    "ax3.set_title('Decision Tree Regression: \\n max_depth=7')\n",
    "ax3.scatter(RM_sample, Price_sample, c=\"darkorange\")\n",
    "ax3.plot(X_test, pred_RF_7, label=\"max_depth:7\", linewidth=2)"
   ]
  }
 ],
 "metadata": {
  "kernelspec": {
   "display_name": "Python 3.9.12 ('base')",
   "language": "python",
   "name": "python3"
  },
  "language_info": {
   "codemirror_mode": {
    "name": "ipython",
    "version": 3
   },
   "file_extension": ".py",
   "mimetype": "text/x-python",
   "name": "python",
   "nbconvert_exporter": "python",
   "pygments_lexer": "ipython3",
   "version": "3.9.12"
  },
  "orig_nbformat": 4,
  "vscode": {
   "interpreter": {
    "hash": "a077222d77dfe082b8f1dd562ad70e458ac2ab76993a0b248ab0476e32e9e8dd"
   }
  }
 },
 "nbformat": 4,
 "nbformat_minor": 2
}
