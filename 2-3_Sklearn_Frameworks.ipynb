{
 "cells": [
  {
   "cell_type": "markdown",
   "metadata": {},
   "source": [
    ">2-3_Sklearn Framework basic"
   ]
  },
  {
   "cell_type": "code",
   "execution_count": null,
   "metadata": {},
   "outputs": [],
   "source": [
    "#Sklearn main modules\n",
    "'''\n",
    "sklearn.datasets: 사이킷 런 내장 예제 데이터셋\n",
    "sklearn.preprocessing: 전처리에 필요한 다양한 가공기능(incoding, regularization, scaling 등)\n",
    "sklearn.feature_selecetion: 알고리즘에 큰 영향을 미치는 피처를 우선순위대로 셀렉션 수행 기능 제공\n",
    "sklearn.feature_extraction: 피처 추출에 사용\n",
    "sklearn.decomposition: 차원 축소 관련 알고리즘 지원(PCA, NMF, Truncated SVD 등)\n",
    "sklearn.model_selection: 데이터셋 분리, 그리드 서치 등 최적 파라미터 추출등 API제공\n",
    "sklearn.metrics: 다양한 성능 측정 방법 제공(Accuracy_score, Precision, Recall, ROC-AUC, RMSE 등)\n",
    "sklearn.ensemble: 앙상블 알고리즘(random forest, 에이다부스트, Gradient boost 등)\n",
    "sklearn.linear_model: 선형회귀, Ridge, Lasso, Logistics Regression 등 회귀 관련 알고리즘 지원 + SGD 지원\n",
    "sklearn.naive_bayes: 나이브 베이즈 알고리즘(Gaussian NB, 다항분포 NB 등)\n",
    "sklearn.neighbors: 최근접 이웃 알고리즘 제공(K-NN등)\n",
    "sklearn.svm: 서포트 벡터 알고리즘 제공\n",
    "sklearn.tree: 의사 결정 트리 알고리즘 제공\n",
    "sklearn.cluster: 비지도 클러스터링 알고리즘 제공(K-mean, 계층형, DBSCAN 등)\n",
    "sklearn.pipeline: 피처 처리 드으이 변환과 ML 알고리즘 학습, 예측 등을 함께 묶어서 실행할 수 있는 유틸리티 제공\n",
    "'''"
   ]
  },
  {
   "cell_type": "code",
   "execution_count": null,
   "metadata": {},
   "outputs": [],
   "source": [
    "#sklearn 내장 데이터 셋\n",
    "'''\n",
    "datasets.load_boston: 회귀 용도, 미국 보스턴의 집과 가격에 대한 데이터 셋\n",
    "datasets.load_breast_cancer: 분류 용도, 위스콘신 유방함과 악성/음성 레이블 데이터 셋\n",
    "datasets.load_diabetes: 회귀용도, 당뇨 데이터 셋\n",
    "datasets.load_digits: 분류용도, 0~9사이 숫자 픽셀 데이터 셋\n",
    "datasets.load_iris: 분류용도, 붓꽃에 대한 피처 데이터 셋\n",
    "'''\n",
    "#sklearn 외장 데이터 셋(온라인으로 불러오기 가능)\n",
    "'''\n",
    "fetch_covtype(): 회귀 분석용 토지 조사 자료\n",
    "fetch_20newsgroups(): 뉴스 그룹 텍스트 자료\n",
    "fetch_lfw_people(): 얼굴 이미지 자료\n",
    "'''"
   ]
  },
  {
   "cell_type": "code",
   "execution_count": 3,
   "metadata": {},
   "outputs": [
    {
     "name": "stdout",
     "output_type": "stream",
     "text": [
      "<class 'sklearn.utils.Bunch'>\n",
      "Keys of iris_data: dict_keys(['data', 'target', 'frame', 'target_names', 'DESCR', 'feature_names', 'filename'])\n"
     ]
    }
   ],
   "source": [
    "from sklearn.datasets import load_iris\n",
    "\n",
    "iris_data = load_iris()\n",
    "print(type(iris_data))\n",
    "\n",
    "keys = iris_data.keys()\n",
    "print('Keys of iris_data:', keys)"
   ]
  },
  {
   "cell_type": "code",
   "execution_count": 4,
   "metadata": {},
   "outputs": [
    {
     "name": "stdout",
     "output_type": "stream",
     "text": [
      "type of iris_data.data: <class 'numpy.ndarray'>\n",
      "shpae of iris_data.data (150, 4)\n"
     ]
    },
    {
     "data": {
      "text/plain": [
       "array([[5.1, 3.5, 1.4, 0.2],\n",
       "       [4.9, 3. , 1.4, 0.2],\n",
       "       [4.7, 3.2, 1.3, 0.2],\n",
       "       [4.6, 3.1, 1.5, 0.2],\n",
       "       [5. , 3.6, 1.4, 0.2],\n",
       "       [5.4, 3.9, 1.7, 0.4],\n",
       "       [4.6, 3.4, 1.4, 0.3],\n",
       "       [5. , 3.4, 1.5, 0.2],\n",
       "       [4.4, 2.9, 1.4, 0.2],\n",
       "       [4.9, 3.1, 1.5, 0.1],\n",
       "       [5.4, 3.7, 1.5, 0.2]])"
      ]
     },
     "execution_count": 4,
     "metadata": {},
     "output_type": "execute_result"
    }
   ],
   "source": [
    "print('type of iris_data.data:', type(iris_data.data))\n",
    "print('shpae of iris_data.data', iris_data.data.shape)\n",
    "iris_data.data[:11,:]\n"
   ]
  },
  {
   "cell_type": "code",
   "execution_count": 5,
   "metadata": {},
   "outputs": [
    {
     "name": "stdout",
     "output_type": "stream",
     "text": [
      "type of iris_data.target: <class 'numpy.ndarray'>\n",
      "shape of iris_data.target: (150,)\n"
     ]
    },
    {
     "data": {
      "text/plain": [
       "array([0, 0, 0, 0, 0, 0, 0, 0, 0, 0, 0, 0, 0, 0, 0, 0, 0, 0, 0, 0, 0, 0,\n",
       "       0, 0, 0, 0, 0, 0, 0, 0, 0, 0, 0, 0, 0, 0, 0, 0, 0, 0, 0, 0, 0, 0,\n",
       "       0, 0, 0, 0, 0, 0, 1, 1, 1, 1, 1, 1, 1, 1, 1, 1, 1, 1, 1, 1, 1, 1,\n",
       "       1, 1, 1, 1, 1, 1, 1, 1, 1, 1, 1, 1, 1, 1, 1, 1, 1, 1, 1, 1, 1, 1,\n",
       "       1, 1, 1, 1, 1, 1, 1, 1, 1, 1, 1, 1, 2, 2, 2, 2, 2, 2, 2, 2, 2, 2,\n",
       "       2, 2, 2, 2, 2, 2, 2, 2, 2, 2, 2, 2, 2, 2, 2, 2, 2, 2, 2, 2, 2, 2,\n",
       "       2, 2, 2, 2, 2, 2, 2, 2, 2, 2, 2, 2, 2, 2, 2, 2, 2, 2])"
      ]
     },
     "execution_count": 5,
     "metadata": {},
     "output_type": "execute_result"
    }
   ],
   "source": [
    "print('type of iris_data.target:', type(iris_data.target))\n",
    "print('shape of iris_data.target:', iris_data.target.shape)\n",
    "iris_data.target"
   ]
  },
  {
   "cell_type": "code",
   "execution_count": 6,
   "metadata": {},
   "outputs": [
    {
     "name": "stdout",
     "output_type": "stream",
     "text": [
      "type of iris_data.feature_names: <class 'list'>\n"
     ]
    },
    {
     "data": {
      "text/plain": [
       "['sepal length (cm)',\n",
       " 'sepal width (cm)',\n",
       " 'petal length (cm)',\n",
       " 'petal width (cm)']"
      ]
     },
     "execution_count": 6,
     "metadata": {},
     "output_type": "execute_result"
    }
   ],
   "source": [
    "print('type of iris_data.feature_names:', type(iris_data.feature_names))\n",
    "iris_data.feature_names"
   ]
  },
  {
   "cell_type": "code",
   "execution_count": 7,
   "metadata": {},
   "outputs": [
    {
     "name": "stdout",
     "output_type": "stream",
     "text": [
      "type of iris_data.target_names: <class 'numpy.ndarray'>\n"
     ]
    },
    {
     "data": {
      "text/plain": [
       "array(['setosa', 'versicolor', 'virginica'], dtype='<U10')"
      ]
     },
     "execution_count": 7,
     "metadata": {},
     "output_type": "execute_result"
    }
   ],
   "source": [
    "print('type of iris_data.target_names:', type(iris_data.target_names))\n",
    "iris_data.target_names"
   ]
  }
 ],
 "metadata": {
  "kernelspec": {
   "display_name": "Python 3.9.7 ('base')",
   "language": "python",
   "name": "python3"
  },
  "language_info": {
   "codemirror_mode": {
    "name": "ipython",
    "version": 3
   },
   "file_extension": ".py",
   "mimetype": "text/x-python",
   "name": "python",
   "nbconvert_exporter": "python",
   "pygments_lexer": "ipython3",
   "version": "3.9.7"
  },
  "orig_nbformat": 4,
  "vscode": {
   "interpreter": {
    "hash": "a077222d77dfe082b8f1dd562ad70e458ac2ab76993a0b248ab0476e32e9e8dd"
   }
  }
 },
 "nbformat": 4,
 "nbformat_minor": 2
}
