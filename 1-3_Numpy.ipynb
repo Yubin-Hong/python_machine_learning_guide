{
 "cells": [
  {
   "cell_type": "markdown",
   "metadata": {},
   "source": [
    "Numpy\n",
    "=="
   ]
  },
  {
   "cell_type": "markdown",
   "metadata": {},
   "source": [
    "import party\n",
    "--"
   ]
  },
  {
   "cell_type": "code",
   "execution_count": 1,
   "metadata": {},
   "outputs": [],
   "source": [
    "import numpy as np\n",
    "import pandas\n",
    "import matplotlib.pyplot\n",
    "import seaborn\n",
    "from sklearn.model_selection import train_test_split"
   ]
  },
  {
   "cell_type": "markdown",
   "metadata": {},
   "source": [
    ">array type, shape, ndim"
   ]
  },
  {
   "cell_type": "code",
   "execution_count": 2,
   "metadata": {},
   "outputs": [
    {
     "name": "stdout",
     "output_type": "stream",
     "text": [
      "array type: <class 'numpy.ndarray'>\n",
      "array1 형태: (3,)\n",
      "array1: 1차원\n",
      "array type: <class 'numpy.ndarray'>\n",
      "array2 형태: (2, 3)\n",
      "array2: 2차원\n",
      "array type: <class 'numpy.ndarray'>\n",
      "array3 형태: (1, 3)\n",
      "array3: 2차원\n"
     ]
    }
   ],
   "source": [
    "array1 = np.array([1,2,3])\n",
    "print(\"array type:\", type(array1))\n",
    "print(\"array1 형태:\",array1.shape)\n",
    "print(\"array1: {}차원\".format(array1.ndim))\n",
    "\n",
    "array2 = np.array([[1,2,3],[2,3,4]])\n",
    "print(\"array type:\", type(array2))\n",
    "print(\"array2 형태:\",array2.shape)\n",
    "print(\"array2: {}차원\".format(array2.ndim))\n",
    "\n",
    "array3 = np.array([[1,2,3]])\n",
    "print(\"array type:\", type(array3))\n",
    "print(\"array3 형태:\",array3.shape)\n",
    "print(\"array3: {}차원\".format(array3.ndim))\n"
   ]
  },
  {
   "cell_type": "markdown",
   "metadata": {},
   "source": [
    ">list to array, dtype"
   ]
  },
  {
   "cell_type": "code",
   "execution_count": 3,
   "metadata": {},
   "outputs": [
    {
     "name": "stdout",
     "output_type": "stream",
     "text": [
      "<class 'list'>\n",
      "<class 'numpy.ndarray'>\n",
      "[1 2 3] int32\n",
      "['1' '2' 'test'] <U11\n",
      "[1. 2. 3.] float64\n"
     ]
    }
   ],
   "source": [
    "list1 = [1,2,3]\n",
    "print(type(list1))\n",
    "array1 = np.array(list1)\n",
    "print(type(array1))\n",
    "print(array1, array1.dtype)\n",
    "\n",
    "list2 = [1,2,'test']\n",
    "array2 = np.array(list2)\n",
    "print(array2, array2.dtype)\n",
    "\n",
    "list3 = [1,2,3.0]\n",
    "array3 = np.array(list3)\n",
    "print(array3, array3.dtype)"
   ]
  },
  {
   "cell_type": "markdown",
   "metadata": {},
   "source": [
    ">astype"
   ]
  },
  {
   "cell_type": "code",
   "execution_count": 4,
   "metadata": {},
   "outputs": [
    {
     "name": "stdout",
     "output_type": "stream",
     "text": [
      "[1. 2. 3.] float64\n",
      "[1 2 3] int32\n",
      "[1 2 3] int32\n"
     ]
    }
   ],
   "source": [
    "array_int = np.array([1,2,3])\n",
    "array_float = array_int.astype('float64')\n",
    "print(array_float, array_float.dtype)\n",
    "\n",
    "array_int1 = array_float.astype('int32')\n",
    "print(array_int1, array_int1.dtype)\n",
    "\n",
    "array_float1 = np.array([1.1,2.1,3.99])\n",
    "array_int2 = array_float1.astype('int32')\n",
    "print(array_int2, array_int2.dtype)"
   ]
  },
  {
   "cell_type": "markdown",
   "metadata": {},
   "source": [
    ">range, zeros, ones"
   ]
  },
  {
   "cell_type": "code",
   "execution_count": 5,
   "metadata": {},
   "outputs": [
    {
     "name": "stdout",
     "output_type": "stream",
     "text": [
      "[0 1 2 3 4 5 6 7 8 9]\n",
      "int32 (10,)\n",
      "[1 2 3 4 5 6 7 8 9]\n",
      "int32 (9,)\n",
      "[[0 0 0]\n",
      " [0 0 0]]\n",
      "int32 (2, 3)\n",
      "[[1. 1. 1.]\n",
      " [1. 1. 1.]]\n",
      "float64 (2, 3)\n"
     ]
    }
   ],
   "source": [
    "sequence_array = np.arange(10)\n",
    "print(sequence_array)\n",
    "print(sequence_array.dtype, sequence_array.shape)\n",
    "\n",
    "sequence_array2 = np.arange(1,10)\n",
    "print(sequence_array2)\n",
    "print(sequence_array2.dtype, sequence_array2.shape)\n",
    "\n",
    "zero_array = np.zeros((2,3), dtype='int32')\n",
    "print(zero_array)\n",
    "print(zero_array.dtype, zero_array.shape)\n",
    "\n",
    "one_array = np.ones((2,3))\n",
    "print(one_array)\n",
    "print(one_array.dtype, one_array.shape)\n"
   ]
  },
  {
   "cell_type": "markdown",
   "metadata": {},
   "source": [
    ">reshape"
   ]
  },
  {
   "cell_type": "code",
   "execution_count": 6,
   "metadata": {},
   "outputs": [
    {
     "name": "stdout",
     "output_type": "stream",
     "text": [
      "array1:\n",
      " [0 1 2 3 4 5 6 7 8 9]\n",
      "array2:\n",
      " [[0 1 2 3 4]\n",
      " [5 6 7 8 9]]\n",
      "array3\n",
      " [[0 1]\n",
      " [2 3]\n",
      " [4 5]\n",
      " [6 7]\n",
      " [8 9]]\n"
     ]
    }
   ],
   "source": [
    "array1 = np.arange(10)\n",
    "print('array1:\\n',array1)\n",
    "\n",
    "array2 = array1.reshape(2,5)\n",
    "print('array2:\\n',array2)\n",
    "\n",
    "array3 = array1.reshape(5,2)\n",
    "print('array3\\n',array3)\n",
    "\n",
    "#Value error\n",
    "#array1.reshape(4,2)"
   ]
  },
  {
   "cell_type": "markdown",
   "metadata": {},
   "source": [
    ">reshape(-1)"
   ]
  },
  {
   "cell_type": "code",
   "execution_count": 7,
   "metadata": {},
   "outputs": [
    {
     "name": "stdout",
     "output_type": "stream",
     "text": [
      "[0 1 2 3 4 5 6 7 8 9]\n",
      "array2 shape: (2, 5)\n",
      "[[0 1 2 3 4]\n",
      " [5 6 7 8 9]]\n",
      "array3 shape: (5, 2)\n",
      "[[0 1]\n",
      " [2 3]\n",
      " [4 5]\n",
      " [6 7]\n",
      " [8 9]]\n"
     ]
    }
   ],
   "source": [
    "array1 = np.arange(10)\n",
    "print(array1)\n",
    "\n",
    "array2 = array1.reshape(-1,5)\n",
    "print('array2 shape:',array2.shape)\n",
    "print(array2)\n",
    "\n",
    "array3 = array1.reshape(5,-1)\n",
    "print('array3 shape:',array3.shape)\n",
    "print(array3)\n",
    "\n",
    "#Value error\n",
    "#array4 = array1.reshape(-1,4)"
   ]
  },
  {
   "cell_type": "markdown",
   "metadata": {},
   "source": [
    ">reshape을 통해 차원 변형 예제"
   ]
  },
  {
   "cell_type": "code",
   "execution_count": 8,
   "metadata": {},
   "outputs": [
    {
     "name": "stdout",
     "output_type": "stream",
     "text": [
      "[[[0 1]\n",
      "  [2 3]]\n",
      "\n",
      " [[4 5]\n",
      "  [6 7]]]\n",
      "array5 shape: (8, 1)\n",
      "[[0], [1], [2], [3], [4], [5], [6], [7]]\n",
      "array6 shape: (1, 8)\n",
      "[[0 1 2 3 4 5 6 7]]\n"
     ]
    }
   ],
   "source": [
    "array1 = np.arange(8)\n",
    "array3d = array1.reshape(2,2,2)\n",
    "print(array3d)\n",
    "array3d.tolist()\n",
    "\n",
    "array5 = array3d.reshape(-1,1)\n",
    "print('array5 shape:',array5.shape)\n",
    "print(array5.tolist())\n",
    "\n",
    "array6 = array1.reshape(1,-1)\n",
    "print('array6 shape:', array6.shape)\n",
    "print(array6)"
   ]
  },
  {
   "cell_type": "markdown",
   "metadata": {},
   "source": [
    ">Indexing"
   ]
  },
  {
   "cell_type": "code",
   "execution_count": 9,
   "metadata": {},
   "outputs": [
    {
     "name": "stdout",
     "output_type": "stream",
     "text": [
      "array: [1 2 3 4 5 6 7 8 9]\n",
      "value: 3\n",
      "<class 'numpy.int32'>\n",
      "value1: 8\n",
      "<class 'numpy.int32'>\n",
      "[9 2 3 4 5 6 7 8 0]\n"
     ]
    }
   ],
   "source": [
    "array1 = np.arange(start=1,stop=10)\n",
    "print('array:',array1)\n",
    "\n",
    "value = array1[2]\n",
    "print('value:', value)\n",
    "print(type(value))\n",
    "\n",
    "value1 = array1[-2]\n",
    "print('value1:',value1)\n",
    "print(type(value1))\n",
    "\n",
    "#데이터값 수정\n",
    "array1[0] = 9\n",
    "array1[8] = 0\n",
    "print(array1)"
   ]
  },
  {
   "cell_type": "code",
   "execution_count": 10,
   "metadata": {},
   "outputs": [
    {
     "name": "stdout",
     "output_type": "stream",
     "text": [
      "[[1 2 3]\n",
      " [4 5 6]\n",
      " [7 8 9]]\n",
      "array2d[0,0]: 1\n",
      "array2d[0,1]: 2\n",
      "array2d[2,0]: 7\n",
      "array2d[2,1]: 8\n",
      "[[[1 2]\n",
      "  [3 4]]\n",
      "\n",
      " [[5 6]\n",
      "  [7 8]]]\n",
      "[[[1, 2], [3, 4]], [[5, 6], [7, 8]]]\n",
      "array3d[0,0,0]: 1\n",
      "array3d[1,0,0]: 5\n",
      "array3d[0,1,0]: 3\n",
      "array3d[0,0,1]: 2\n"
     ]
    }
   ],
   "source": [
    "array1d = np.arange(start=1,stop=10)\n",
    "array2d = array1d.reshape(3,3)\n",
    "print(array2d)\n",
    "print('array2d[0,0]:',array2d[0,0])\n",
    "print('array2d[0,1]:',array2d[0,1])\n",
    "print('array2d[2,0]:',array2d[2,0])\n",
    "print('array2d[2,1]:',array2d[2,1])\n",
    "\n",
    "array1d = np.arange(start=1,stop=9)\n",
    "array3d = array1d.reshape(2,2,2)\n",
    "print(array3d)\n",
    "print(array3d.tolist())\n",
    "print('array3d[0,0,0]:',array3d[0,0,0])\n",
    "print('array3d[1,0,0]:',array3d[1,0,0])\n",
    "print('array3d[0,1,0]:',array3d[0,1,0])\n",
    "print('array3d[0,0,1]:',array3d[0,0,1])\n"
   ]
  },
  {
   "cell_type": "markdown",
   "metadata": {},
   "source": [
    ">Slicing"
   ]
  },
  {
   "cell_type": "code",
   "execution_count": 11,
   "metadata": {},
   "outputs": [
    {
     "name": "stdout",
     "output_type": "stream",
     "text": [
      "[1 2 3]\n",
      "<class 'numpy.ndarray'>\n",
      "[1 2 3]\n",
      "[4 5 6 7 8 9]\n",
      "[1 2 3 4 5 6 7 8 9]\n",
      "[[1 2 3]\n",
      " [4 5 6]\n",
      " [7 8 9]]\n",
      "array2d[0:2,0:2] \n",
      " [[1 2]\n",
      " [4 5]]\n",
      "array2d[1:3,0:1] \n",
      " [[4]\n",
      " [7]]\n",
      "array2d[-1:,0] \n",
      " [7]\n",
      "array2d[:,:-1]\n",
      " [[1 2]\n",
      " [4 5]\n",
      " [7 8]]\n",
      "array2d[0] shape: (3,) array2d[0]: [1 2 3]\n",
      "array2d[2] shape: (3,) array2d[2]: [7 8 9]\n",
      "arrry2d\n"
     ]
    }
   ],
   "source": [
    "array1 = np.arange(start=1,stop=10)\n",
    "array3 = array1[0:3]\n",
    "print(array3)\n",
    "print(type(array3))\n",
    "\n",
    "array4 = array1[:3]\n",
    "print(array4)\n",
    "\n",
    "array5 = array1[3:]\n",
    "print(array5)\n",
    "\n",
    "array6 = array1[:]\n",
    "print(array6)\n",
    "\n",
    "#2d Slicing\n",
    "array1d = np.arange(start=1,stop=10)\n",
    "array2d = array1d.reshape(3,3)\n",
    "print(array2d)\n",
    "\n",
    "print('array2d[0:2,0:2] \\n',array2d[0:2,0:2])\n",
    "print('array2d[1:3,0:1] \\n',array2d[1:3,0:1])\n",
    "print('array2d[-1:,0] \\n',array2d[-1:,0])\n",
    "print('array2d[:,:-1]\\n',array2d[:,:-1])\n",
    "\n",
    "print('array2d[0] shape:', array2d[0].shape,'array2d[0]:', array2d[0])\n",
    "print('array2d[2] shape:', array2d[2].shape,'array2d[2]:', array2d[2])\n",
    "print('arrry2d')\n",
    "\n"
   ]
  },
  {
   "cell_type": "markdown",
   "metadata": {},
   "source": [
    ">Fancy Indexing"
   ]
  },
  {
   "cell_type": "code",
   "execution_count": 12,
   "metadata": {},
   "outputs": [
    {
     "name": "stdout",
     "output_type": "stream",
     "text": [
      "array2d[0,1],2]\n",
      "-> [3, 6]\n",
      "array2d[[0,1],0:2]\n",
      "-> [[1, 2], [4, 5]]\n",
      "array2d[[0,1]]\n",
      "-> [[1, 2, 3], [4, 5, 6]]\n"
     ]
    }
   ],
   "source": [
    "array1d = np.arange(start=1,stop=10)\n",
    "array2d = array1d.reshape(3,3)\n",
    "\n",
    "array3 = array2d[[0,1],2]\n",
    "print('array2d[0,1],2]\\n->', array3.tolist())\n",
    "\n",
    "array4 = array2d[[0,1],0:2]\n",
    "print('array2d[[0,1],0:2]\\n->', array4.tolist())\n",
    "\n",
    "array5 = array2d[[0,1]]\n",
    "print('array2d[[0,1]]\\n->',array5.tolist())\n"
   ]
  },
  {
   "cell_type": "markdown",
   "metadata": {},
   "source": [
    ">Boolean Indexing"
   ]
  },
  {
   "cell_type": "code",
   "execution_count": 13,
   "metadata": {},
   "outputs": [
    {
     "name": "stdout",
     "output_type": "stream",
     "text": [
      "array1d[array1d>5]\n",
      "-> [6 7 8 9]\n",
      "array1d.dtype: int32\n",
      "array1d > 5\n",
      "-> [False False False False False  True  True  True  True]\n",
      "array1d[boolean_indexs]\n",
      "-> [6 7 8 9]\n",
      "array2d > 5:\n",
      " [[False False False]\n",
      " [False False  True]\n",
      " [ True  True  True]]\n",
      "array2d[array2d>5]\n",
      "-> [6 7 8 9]\n"
     ]
    }
   ],
   "source": [
    "array1d = np.arange(start=1,stop=10)\n",
    "\n",
    "array3 = array1d[array1d>5]\n",
    "print('array1d[array1d>5]\\n->', array3)\n",
    "\n",
    "#why?\n",
    "print('array1d.dtype:',array1d.dtype)\n",
    "print('array1d > 5\\n->',array1d > 5)\n",
    "\n",
    "boolean_indexs = np.array([False, False, False, False, False, True, True, True, True])\n",
    "print('array1d[boolean_indexs]\\n->',array1d[boolean_indexs])\n",
    "\n",
    "array2d = array1d.reshape(3,3)\n",
    "print('array2d > 5:\\n',array2d>5)\n",
    "print('array2d[array2d>5]\\n->',array2d[array2d>5])\n"
   ]
  },
  {
   "cell_type": "markdown",
   "metadata": {},
   "source": [
    ">Sorting"
   ]
  },
  {
   "cell_type": "code",
   "execution_count": 14,
   "metadata": {},
   "outputs": [
    {
     "name": "stdout",
     "output_type": "stream",
     "text": [
      "original_array: [3 1 9 4]\n",
      "----------------------\n",
      "np.sort(original_array): [1 3 4 9]\n",
      "after np.sort(original_array)\n",
      "->original_array: [3 1 9 4]\n",
      "----------------------\n",
      "original_array.sort(): None\n",
      "after original_array.sort()\n",
      "->original_array: [1 3 4 9]\n",
      "----------------------\n",
      "np.sort(original_array)[::-1]\n",
      "-> [9 4 3 1]\n"
     ]
    }
   ],
   "source": [
    "original_array = np.array([3,1,9,4])\n",
    "print('original_array:', original_array)\n",
    "print('----------------------')\n",
    "print('np.sort(original_array):', np.sort(original_array))\n",
    "print('after np.sort(original_array)\\n->original_array:',original_array)\n",
    "print('----------------------')\n",
    "sorted_array = original_array.sort()\n",
    "print('original_array.sort():',original_array.sort())\n",
    "print('after original_array.sort()\\n->original_array:',original_array)\n",
    "print('----------------------')\n",
    "\n",
    "#Descending order sort(내림차순)\n",
    "desc_sorted_array = np.sort(original_array)[::-1]\n",
    "print('np.sort(original_array)[::-1]\\n->',np.sort(original_array)[::-1])\n"
   ]
  },
  {
   "cell_type": "markdown",
   "metadata": {},
   "source": [
    ">2d array sort"
   ]
  },
  {
   "cell_type": "code",
   "execution_count": 15,
   "metadata": {},
   "outputs": [
    {
     "name": "stdout",
     "output_type": "stream",
     "text": [
      "array2d:\n",
      " [[ 8 12]\n",
      " [ 7  1]]\n",
      "----------------------\n",
      "np.sort(array2d, axis=0):\n",
      " [[ 7  1]\n",
      " [ 8 12]]\n",
      "----------------------\n",
      "np.sort(array2d, axis=1):\n",
      " [[ 8 12]\n",
      " [ 1  7]]\n"
     ]
    }
   ],
   "source": [
    "array2d = np.array([[8, 12], [7, 1]])\n",
    "print('array2d:\\n',array2d)\n",
    "print('----------------------')\n",
    "\n",
    "axis0_sorted_array2d = np.sort(array2d, axis=0)\n",
    "print('np.sort(array2d, axis=0):\\n',axis0_sorted_array2d)\n",
    "print('----------------------')\n",
    "\n",
    "axis1_sorted_array2d = np.sort(array2d, axis=1)\n",
    "print('np.sort(array2d, axis=1):\\n',axis1_sorted_array2d)"
   ]
  },
  {
   "cell_type": "markdown",
   "metadata": {},
   "source": [
    ">Argsort"
   ]
  },
  {
   "cell_type": "code",
   "execution_count": 16,
   "metadata": {},
   "outputs": [
    {
     "name": "stdout",
     "output_type": "stream",
     "text": [
      "<class 'numpy.ndarray'>\n",
      "np.argsort(original_array):\n",
      " [1 0 3 2]\n",
      "----------------------\n",
      "np.argsort(original_array)[::-1]:\n",
      " [2 3 0 1]\n"
     ]
    }
   ],
   "source": [
    "original_array = np.array([3,1,9,5])\n",
    "sort_indices = np.argsort(original_array)\n",
    "print(type(sort_indices))\n",
    "print('np.argsort(original_array):\\n',sort_indices)\n",
    "print('----------------------')\n",
    "\n",
    "#Desceding Order\n",
    "descsort_indices = np.argsort(original_array)[::-1]\n",
    "print('np.argsort(original_array)[::-1]:\\n',descsort_indices)"
   ]
  },
  {
   "cell_type": "code",
   "execution_count": 17,
   "metadata": {},
   "outputs": [
    {
     "name": "stdout",
     "output_type": "stream",
     "text": [
      "Index of score after ascending order sort: [3 1 0 2 4]\n",
      "Name in order of score(ascending order): ['D' 'B' 'A' 'C' 'E']\n"
     ]
    }
   ],
   "source": [
    "name_array = np.array(['A','B','C','D','E'])\n",
    "score_array = np.array([61,42,73,34,95])\n",
    "\n",
    "ascsort_indices = np.argsort(score_array)\n",
    "print('Index of score after ascending order sort:',ascsort_indices)\n",
    "print('Name in order of score(ascending order):', name_array[ascsort_indices])"
   ]
  },
  {
   "cell_type": "markdown",
   "metadata": {},
   "source": [
    ">Linear Algebra(Dot Product, Transpose)"
   ]
  },
  {
   "cell_type": "code",
   "execution_count": 18,
   "metadata": {},
   "outputs": [
    {
     "name": "stdout",
     "output_type": "stream",
     "text": [
      "MatrixA*MatrixB:\n",
      " [[ 58  64]\n",
      " [139 154]]\n"
     ]
    }
   ],
   "source": [
    "MatrixA = np.array([[1, 2, 3],\n",
    "                    [4, 5, 6]])\n",
    "MatrixB = np.array([[7, 8],\n",
    "                    [9, 10],\n",
    "                    [11, 12]])\n",
    "A_dotproduct_B = np.dot(MatrixA,MatrixB)\n",
    "print('MatrixA*MatrixB:\\n',A_dotproduct_B)"
   ]
  },
  {
   "cell_type": "code",
   "execution_count": 19,
   "metadata": {},
   "outputs": [
    {
     "name": "stdout",
     "output_type": "stream",
     "text": [
      "array2d:\n",
      " [[1 2 3]\n",
      " [4 5 6]\n",
      " [7 8 9]]\n",
      "----------------------\n",
      "Transpose of array2d:\n",
      " [[1 4 7]\n",
      " [2 5 8]\n",
      " [3 6 9]]\n"
     ]
    }
   ],
   "source": [
    "array1d = np.arange(start=1,stop=10)\n",
    "array2d = array1d.reshape(3,3)\n",
    "print('array2d:\\n',array2d)\n",
    "print('----------------------')\n",
    "\n",
    "array2d_T = np.transpose(array2d)\n",
    "print('Transpose of array2d:\\n',array2d_T)"
   ]
  },
  {
   "cell_type": "code",
   "execution_count": 31,
   "metadata": {},
   "outputs": [
    {
     "name": "stdout",
     "output_type": "stream",
     "text": [
      "[[1 2 3]\n",
      " [4 5 6]\n",
      " [7 8 9]]\n",
      "[[1 2 8]\n",
      " [4 5 8]\n",
      " [7 8 8]]\n"
     ]
    }
   ],
   "source": [
    "new_array = np.arange(1,10).reshape(3,3)\n",
    "print(new_array)\n",
    "new_array[:,2] = 8\n",
    "print(new_array)"
   ]
  }
 ],
 "metadata": {
  "interpreter": {
   "hash": "a077222d77dfe082b8f1dd562ad70e458ac2ab76993a0b248ab0476e32e9e8dd"
  },
  "kernelspec": {
   "display_name": "Python 3.9.7 ('base')",
   "language": "python",
   "name": "python3"
  },
  "language_info": {
   "codemirror_mode": {
    "name": "ipython",
    "version": 3
   },
   "file_extension": ".py",
   "mimetype": "text/x-python",
   "name": "python",
   "nbconvert_exporter": "python",
   "pygments_lexer": "ipython3",
   "version": "3.9.7"
  },
  "orig_nbformat": 4
 },
 "nbformat": 4,
 "nbformat_minor": 2
}
