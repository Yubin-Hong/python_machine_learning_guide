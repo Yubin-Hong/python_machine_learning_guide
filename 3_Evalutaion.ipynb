{
 "cells": [
  {
   "cell_type": "markdown",
   "metadata": {},
   "source": [
    ">Accuracy"
   ]
  },
  {
   "cell_type": "code",
   "execution_count": 1,
   "metadata": {},
   "outputs": [],
   "source": [
    "from sklearn.base import BaseEstimator\n",
    "import numpy as np\n",
    "\n",
    "class MyDummyClassifier(BaseEstimator):\n",
    "    def fit(self, X, Y=None):\n",
    "        pass\n",
    "\n",
    "    def predict(self, X):\n",
    "        pred = np.zeros((X.shape[0], 1))\n",
    "        for i in range (X.shape[0]):\n",
    "            if X['Sex'].iloc[i] == 1:\n",
    "                pred[i] = 0\n",
    "            else:\n",
    "                pred[i] = 1\n",
    "            \n",
    "        return pred"
   ]
  },
  {
   "cell_type": "code",
   "execution_count": 2,
   "metadata": {},
   "outputs": [
    {
     "name": "stdout",
     "output_type": "stream",
     "text": [
      "Accuracy of Dummy Classifier: 0.7877094972067039\n"
     ]
    }
   ],
   "source": [
    "import pandas as pd\n",
    "from sklearn.model_selection import train_test_split\n",
    "from sklearn.metrics import accuracy_score\n",
    "from sklearn.preprocessing import LabelEncoder\n",
    "\n",
    "titanic_df = pd.read_csv(r'.\\titanic\\train.csv')\n",
    "encoder = LabelEncoder()\n",
    "encoder.fit(titanic_df['Sex'])\n",
    "titanic_df['Sex'] = encoder.transform(titanic_df['Sex'])\n",
    "\n",
    "target = titanic_df['Survived']\n",
    "data = titanic_df.drop('Survived', axis=1)\n",
    "X_train, X_test, Y_train, Y_test = train_test_split(data, target, test_size=0.2, random_state=0)\n",
    "\n",
    "my_clf = MyDummyClassifier()\n",
    "my_clf.fit(X_train, Y_train)\n",
    "predictions = my_clf.predict(X_test)\n",
    "print('Accuracy of Dummy Classifier:', accuracy_score(Y_test, predictions))"
   ]
  },
  {
   "cell_type": "code",
   "execution_count": 3,
   "metadata": {},
   "outputs": [],
   "source": [
    "from sklearn.datasets import load_digits\n",
    "\n",
    "\n",
    "class MyFakeClassifier(BaseEstimator):\n",
    "    def fit(self, X, Y=None):\n",
    "        pass\n",
    "\n",
    "    def predict(self, X):\n",
    "        return np.zeros((len(X), 1), dtype=bool)\n",
    "\n",
    "\n",
    "digits = load_digits()\n",
    "\n",
    "y = (digits.target == 7).astype(int)\n",
    "X_train, X_test, Y_train, Y_test = train_test_split(\n",
    "    digits.data, y, random_state=11)\n"
   ]
  },
  {
   "cell_type": "code",
   "execution_count": 4,
   "metadata": {},
   "outputs": [
    {
     "name": "stdout",
     "output_type": "stream",
     "text": [
      "# of data: 1797\n",
      "# of 7 in data: 179\n",
      "Ratio of 7 in data: 0.09961046188091263\n"
     ]
    }
   ],
   "source": [
    "print('# of data:', digits.target.shape[0])\n",
    "trues = y[y==True]\n",
    "print('# of 7 in data:', trues.shape[0])\n",
    "print('Ratio of 7 in data:',trues.shape[0]/digits.target.shape[0])"
   ]
  },
  {
   "cell_type": "code",
   "execution_count": 5,
   "metadata": {},
   "outputs": [
    {
     "name": "stdout",
     "output_type": "stream",
     "text": [
      "Size of test label set: (450,)\n",
      "Dist. of test label set:\n",
      "0    405\n",
      "1     45\n",
      "dtype: int64\n",
      "Accuracy: 0.9\n"
     ]
    }
   ],
   "source": [
    "print('Size of test label set:', Y_test.shape)\n",
    "print('Dist. of test label set:\\n', pd.Series(Y_test).value_counts(), sep='')\n",
    "\n",
    "fakeclf = MyFakeClassifier()\n",
    "fakeclf.fit(X_train, Y_train)\n",
    "fakepred = fakeclf.predict(X_test)\n",
    "print('Accuracy:', accuracy_score(Y_test, fakepred))"
   ]
  },
  {
   "cell_type": "markdown",
   "metadata": {},
   "source": [
    ">Confusion Matrix"
   ]
  },
  {
   "cell_type": "code",
   "execution_count": 6,
   "metadata": {},
   "outputs": [
    {
     "data": {
      "text/plain": [
       "array([[405,   0],\n",
       "       [ 45,   0]], dtype=int64)"
      ]
     },
     "execution_count": 6,
     "metadata": {},
     "output_type": "execute_result"
    }
   ],
   "source": [
    "from sklearn.metrics import confusion_matrix\n",
    "\n",
    "confusion_matrix(Y_test, fakepred)"
   ]
  },
  {
   "cell_type": "markdown",
   "metadata": {},
   "source": [
    ">Precision and Recall"
   ]
  },
  {
   "cell_type": "code",
   "execution_count": 7,
   "metadata": {},
   "outputs": [],
   "source": [
    "#Precision = TP/(FP+TP)\n",
    "#Recall = TP/(FN+TP)\n",
    "from sklearn.metrics import accuracy_score, confusion_matrix \n",
    "from sklearn.metrics import recall_score, precision_score\n",
    "\n",
    "def get_clf_eval(y_test, pred):\n",
    "    confusion = confusion_matrix(y_test, pred)\n",
    "    accuracy = accuracy_score(y_test, pred)\n",
    "    precision = precision_score(y_test, pred)\n",
    "    recall = recall_score(y_test, pred)\n",
    "    print('Confusion Matrix:\\n', confusion, sep='')\n",
    "    print('Accuracy: {:.4f}, Precision: {:.4f}, Recall: {:.4f}'.format(\n",
    "        accuracy, precision, recall))\n",
    "    "
   ]
  },
  {
   "cell_type": "code",
   "execution_count": 8,
   "metadata": {},
   "outputs": [],
   "source": [
    "def fillna(df):\n",
    "    df['Age'].fillna(df['Age'].mean(), inplace=True)\n",
    "    df['Cabin'].fillna('N', inplace=True)\n",
    "    df['Embarked'].fillna('N', inplace=True)\n",
    "    df['Fare'].fillna(0, inplace=True)\n",
    "    return df\n",
    "\n",
    "def drop_features(df):\n",
    "    df.drop(['PassengerId', 'Name', 'Ticket'], axis=1, inplace=True)\n",
    "    return df\n",
    "\n",
    "def label_encoding(df):\n",
    "    df['Cabin'] = df['Cabin'].str[:1]\n",
    "    features = ['Cabin', 'Sex', 'Embarked']\n",
    "    for feature in features:\n",
    "        encoder = LabelEncoder()\n",
    "        encoder.fit(df[feature])\n",
    "        df[feature] = encoder.transform(df[feature])\n",
    "    return df\n",
    "\n",
    "def transform_features(df):\n",
    "    df = fillna(df)\n",
    "    df = drop_features(df)\n",
    "    df = label_encoding(df)\n",
    "    return df"
   ]
  },
  {
   "cell_type": "code",
   "execution_count": 9,
   "metadata": {},
   "outputs": [
    {
     "name": "stdout",
     "output_type": "stream",
     "text": [
      "Confusion Matrix:\n",
      "[[104  13]\n",
      " [ 14  48]]\n",
      "Accuracy: 0.8492, Precision: 0.7869, Recall: 0.7742\n"
     ]
    },
    {
     "name": "stderr",
     "output_type": "stream",
     "text": [
      "c:\\Users\\user\\anaconda3\\lib\\site-packages\\sklearn\\linear_model\\_logistic.py:763: ConvergenceWarning: lbfgs failed to converge (status=1):\n",
      "STOP: TOTAL NO. of ITERATIONS REACHED LIMIT.\n",
      "\n",
      "Increase the number of iterations (max_iter) or scale the data as shown in:\n",
      "    https://scikit-learn.org/stable/modules/preprocessing.html\n",
      "Please also refer to the documentation for alternative solver options:\n",
      "    https://scikit-learn.org/stable/modules/linear_model.html#logistic-regression\n",
      "  n_iter_i = _check_optimize_result(\n"
     ]
    }
   ],
   "source": [
    "from sklearn.model_selection import train_test_split\n",
    "from sklearn.linear_model import LogisticRegression\n",
    "\n",
    "titanic_df = pd.read_csv(r'.\\titanic\\train.csv')\n",
    "\n",
    "target = titanic_df['Survived']\n",
    "data = titanic_df.drop('Survived', axis=1)\n",
    "data = transform_features(data)\n",
    "\n",
    "X_train, X_test, Y_train, Y_test = train_test_split(\n",
    "    data, target, test_size=0.2, random_state=11)\n",
    "\n",
    "LogReg = LogisticRegression()\n",
    "LogReg.fit(X_train, Y_train)\n",
    "LG_pred = LogReg.predict(X_test)\n",
    "get_clf_eval(LG_pred, Y_test)\n"
   ]
  },
  {
   "cell_type": "markdown",
   "metadata": {},
   "source": [
    ">Trade-off between Precision & Recall"
   ]
  },
  {
   "cell_type": "code",
   "execution_count": 14,
   "metadata": {},
   "outputs": [
    {
     "name": "stdout",
     "output_type": "stream",
     "text": [
      "pred_proba.shape: (179, 2)\n",
      "pred_proba[:3]:\n",
      " [[0.46161968 0.53838032]\n",
      " [0.87858765 0.12141235]\n",
      " [0.87723954 0.12276046]]\n",
      "pred_proba_result:\n",
      " [[0.46161968 0.53838032 1.        ]\n",
      " [0.87858765 0.12141235 0.        ]\n",
      " [0.87723954 0.12276046 0.        ]\n",
      " [0.88285166 0.11714834 0.        ]\n",
      " [0.85504702 0.14495298 0.        ]\n",
      " [0.88231291 0.11768709 0.        ]\n",
      " [0.88835666 0.11164334 0.        ]\n",
      " [0.20912699 0.79087301 1.        ]\n",
      " [0.78253105 0.21746895 0.        ]\n",
      " [0.36999788 0.63000212 1.        ]\n",
      " [0.89989426 0.10010574 0.        ]\n",
      " [0.87477198 0.12522802 0.        ]\n",
      " [0.87723362 0.12276638 0.        ]\n",
      " [0.88831122 0.11168878 0.        ]\n",
      " [0.43510975 0.56489025 1.        ]\n",
      " [0.85883259 0.14116741 0.        ]\n",
      " [0.90373558 0.09626442 0.        ]\n",
      " [0.73313381 0.26686619 0.        ]\n",
      " [0.72424423 0.27575577 0.        ]\n",
      " [0.1725394  0.8274606  1.        ]]\n"
     ]
    }
   ],
   "source": [
    "pred_proba = LogReg.predict_proba(X_test)\n",
    "pred = LogReg.predict(X_test)\n",
    "print('pred_proba.shape:', pred_proba.shape)\n",
    "print('pred_proba[:3]:\\n', pred_proba[:3])\n",
    "\n",
    "pred_proba_result = np.concatenate([pred_proba, pred.reshape(-1,1)], axis = 1)\n",
    "print('pred_proba_result:\\n', pred_proba_result[:20])"
   ]
  },
  {
   "cell_type": "code",
   "execution_count": 15,
   "metadata": {},
   "outputs": [
    {
     "name": "stdout",
     "output_type": "stream",
     "text": [
      "[[0. 0. 1.]\n",
      " [1. 0. 0.]\n",
      " [0. 0. 1.]]\n"
     ]
    }
   ],
   "source": [
    "from sklearn.preprocessing import Binarizer\n",
    "\n",
    "X = [[1, -1, 2],\n",
    "     [2, 0, 0],\n",
    "     [0, 1.1, 1.2]]\n",
    "\n",
    "binarizer = Binarizer(threshold=1.1)\n",
    "print(binarizer.fit_transform(X))\n"
   ]
  },
  {
   "cell_type": "code",
   "execution_count": 20,
   "metadata": {},
   "outputs": [
    {
     "name": "stdout",
     "output_type": "stream",
     "text": [
      "(179,)\n",
      "(179,)\n",
      "(179, 1)\n"
     ]
    }
   ],
   "source": [
    "print(Y_test.shape)\n",
    "print(pred_proba[:,1].shape)\n",
    "print(pred_proba[:,1].reshape(-1,1).shape)\n"
   ]
  },
  {
   "cell_type": "code",
   "execution_count": 21,
   "metadata": {},
   "outputs": [
    {
     "name": "stdout",
     "output_type": "stream",
     "text": [
      "Confusion Matrix:\n",
      "[[104  14]\n",
      " [ 13  48]]\n",
      "Accuracy: 0.8492, Precision: 0.7742, Recall: 0.7869\n"
     ]
    }
   ],
   "source": [
    "pred_proba = LogReg.predict_proba(X_test)\n",
    "\n",
    "binarizer = Binarizer(threshold=0.5)\n",
    "pred_prob_1 = pred_proba[:,1].reshape(-1,1)\n",
    "prediction = binarizer.fit_transform(pred_prob_1)\n",
    "\n",
    "get_clf_eval(Y_test, prediction)"
   ]
  },
  {
   "cell_type": "code",
   "execution_count": 22,
   "metadata": {},
   "outputs": [
    {
     "name": "stdout",
     "output_type": "stream",
     "text": [
      "Confusion Matrix:\n",
      "[[99 19]\n",
      " [10 51]]\n",
      "Accuracy: 0.8380, Precision: 0.7286, Recall: 0.8361\n"
     ]
    }
   ],
   "source": [
    "pred_proba = LogReg.predict_proba(X_test)\n",
    "\n",
    "#change threshold 0.5 -> 0.4\n",
    "binarizer = Binarizer(threshold=0.4)\n",
    "pred_prob_1 = pred_proba[:,1].reshape(-1,1)\n",
    "prediction = binarizer.fit_transform(pred_prob_1)\n",
    "\n",
    "get_clf_eval(Y_test, prediction)"
   ]
  },
  {
   "cell_type": "code",
   "execution_count": 24,
   "metadata": {},
   "outputs": [
    {
     "name": "stdout",
     "output_type": "stream",
     "text": [
      "Threshold: 0.4\n",
      "Confusion Matrix:\n",
      "[[99 19]\n",
      " [10 51]]\n",
      "Accuracy: 0.8380, Precision: 0.7286, Recall: 0.8361\n",
      "-------------\n",
      "Threshold: 0.45\n",
      "Confusion Matrix:\n",
      "[[103  15]\n",
      " [ 12  49]]\n",
      "Accuracy: 0.8492, Precision: 0.7656, Recall: 0.8033\n",
      "-------------\n",
      "Threshold: 0.5\n",
      "Confusion Matrix:\n",
      "[[104  14]\n",
      " [ 13  48]]\n",
      "Accuracy: 0.8492, Precision: 0.7742, Recall: 0.7869\n",
      "-------------\n",
      "Threshold: 0.55\n",
      "Confusion Matrix:\n",
      "[[109   9]\n",
      " [ 15  46]]\n",
      "Accuracy: 0.8659, Precision: 0.8364, Recall: 0.7541\n",
      "-------------\n",
      "Threshold: 0.6\n",
      "Confusion Matrix:\n",
      "[[112   6]\n",
      " [ 16  45]]\n",
      "Accuracy: 0.8771, Precision: 0.8824, Recall: 0.7377\n",
      "-------------\n"
     ]
    }
   ],
   "source": [
    "thresholds = [0.4, 0.45, 0.5, 0.55, 0.6]\n",
    "\n",
    "def get_eval_by_threshold(target, pred_prob_1, thresholds):\n",
    "    for thresh in thresholds:\n",
    "        binarizer = Binarizer(threshold=thresh)\n",
    "        binarizer.fit(pred_prob_1)\n",
    "        pred = binarizer.transform(pred_prob_1)\n",
    "        pred1 = pred[:,1].reshape(-1,1)\n",
    "        print('Threshold:', thresh)\n",
    "        get_clf_eval(target, pred1)\n",
    "        print('-------------')\n",
    "\n",
    "get_eval_by_threshold(Y_test, pred_proba, thresholds)"
   ]
  },
  {
   "cell_type": "code",
   "execution_count": null,
   "metadata": {},
   "outputs": [],
   "source": []
  },
  {
   "cell_type": "markdown",
   "metadata": {},
   "source": []
  }
 ],
 "metadata": {
  "kernelspec": {
   "display_name": "Python 3.9.7 ('base')",
   "language": "python",
   "name": "python3"
  },
  "language_info": {
   "codemirror_mode": {
    "name": "ipython",
    "version": 3
   },
   "file_extension": ".py",
   "mimetype": "text/x-python",
   "name": "python",
   "nbconvert_exporter": "python",
   "pygments_lexer": "ipython3",
   "version": "3.9.7"
  },
  "orig_nbformat": 4,
  "vscode": {
   "interpreter": {
    "hash": "a077222d77dfe082b8f1dd562ad70e458ac2ab76993a0b248ab0476e32e9e8dd"
   }
  }
 },
 "nbformat": 4,
 "nbformat_minor": 2
}
