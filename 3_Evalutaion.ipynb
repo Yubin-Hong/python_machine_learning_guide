{
 "cells": [
  {
   "cell_type": "markdown",
   "metadata": {},
   "source": [
    ">Accuracy"
   ]
  },
  {
   "cell_type": "code",
   "execution_count": 1,
   "metadata": {},
   "outputs": [],
   "source": [
    "from sklearn.base import BaseEstimator\n",
    "import numpy as np\n",
    "\n",
    "class MyDummyClassifier(BaseEstimator):\n",
    "    def fit(self, X, Y=None):\n",
    "        pass\n",
    "\n",
    "    def predict(self, X):\n",
    "        pred = np.zeros((X.shape[0], 1))\n",
    "        for i in range (X.shape[0]):\n",
    "            if X['Sex'].iloc[i] == 1:\n",
    "                pred[i] = 0\n",
    "            else:\n",
    "                pred[i] = 1\n",
    "            \n",
    "        return pred"
   ]
  },
  {
   "cell_type": "code",
   "execution_count": 2,
   "metadata": {},
   "outputs": [
    {
     "name": "stdout",
     "output_type": "stream",
     "text": [
      "Accuracy of Dummy Classifier: 0.7877094972067039\n"
     ]
    }
   ],
   "source": [
    "import pandas as pd\n",
    "from sklearn.model_selection import train_test_split\n",
    "from sklearn.metrics import accuracy_score\n",
    "from sklearn.preprocessing import LabelEncoder\n",
    "\n",
    "titanic_df = pd.read_csv(r'.\\titanic\\train.csv')\n",
    "encoder = LabelEncoder()\n",
    "encoder.fit(titanic_df['Sex'])\n",
    "titanic_df['Sex'] = encoder.transform(titanic_df['Sex'])\n",
    "\n",
    "target = titanic_df['Survived']\n",
    "data = titanic_df.drop('Survived', axis=1)\n",
    "X_train, X_test, Y_train, Y_test = train_test_split(data, target, test_size=0.2, random_state=0)\n",
    "\n",
    "my_clf = MyDummyClassifier()\n",
    "my_clf.fit(X_train, Y_train)\n",
    "predictions = my_clf.predict(X_test)\n",
    "print('Accuracy of Dummy Classifier:', accuracy_score(Y_test, predictions))"
   ]
  },
  {
   "cell_type": "code",
   "execution_count": 3,
   "metadata": {},
   "outputs": [],
   "source": [
    "from sklearn.datasets import load_digits\n",
    "\n",
    "\n",
    "class MyFakeClassifier(BaseEstimator):\n",
    "    def fit(self, X, Y=None):\n",
    "        pass\n",
    "\n",
    "    def predict(self, X):\n",
    "        return np.zeros((len(X), 1), dtype=bool)\n",
    "\n",
    "\n",
    "digits = load_digits()\n",
    "\n",
    "y = (digits.target == 7).astype(int)\n",
    "X_train, X_test, Y_train, Y_test = train_test_split(\n",
    "    digits.data, y, random_state=11)\n"
   ]
  },
  {
   "cell_type": "code",
   "execution_count": 4,
   "metadata": {},
   "outputs": [
    {
     "name": "stdout",
     "output_type": "stream",
     "text": [
      "# of data: 1797\n",
      "# of 7 in data: 179\n",
      "Ratio of 7 in data: 0.09961046188091263\n"
     ]
    }
   ],
   "source": [
    "print('# of data:', digits.target.shape[0])\n",
    "trues = y[y==True]\n",
    "print('# of 7 in data:', trues.shape[0])\n",
    "print('Ratio of 7 in data:',trues.shape[0]/digits.target.shape[0])"
   ]
  },
  {
   "cell_type": "code",
   "execution_count": 5,
   "metadata": {},
   "outputs": [
    {
     "name": "stdout",
     "output_type": "stream",
     "text": [
      "Size of test label set: (450,)\n",
      "Dist. of test label set:\n",
      "0    405\n",
      "1     45\n",
      "dtype: int64\n",
      "Accuracy: 0.9\n"
     ]
    }
   ],
   "source": [
    "print('Size of test label set:', Y_test.shape)\n",
    "print('Dist. of test label set:\\n', pd.Series(Y_test).value_counts(), sep='')\n",
    "\n",
    "fakeclf = MyFakeClassifier()\n",
    "fakeclf.fit(X_train, Y_train)\n",
    "fakepred = fakeclf.predict(X_test)\n",
    "print('Accuracy:', accuracy_score(Y_test, fakepred))"
   ]
  },
  {
   "cell_type": "markdown",
   "metadata": {},
   "source": [
    ">Confusion Matrix"
   ]
  },
  {
   "cell_type": "code",
   "execution_count": 6,
   "metadata": {},
   "outputs": [
    {
     "data": {
      "text/plain": [
       "array([[405,   0],\n",
       "       [ 45,   0]], dtype=int64)"
      ]
     },
     "execution_count": 6,
     "metadata": {},
     "output_type": "execute_result"
    }
   ],
   "source": [
    "from sklearn.metrics import confusion_matrix\n",
    "\n",
    "confusion_matrix(Y_test, fakepred)"
   ]
  },
  {
   "cell_type": "markdown",
   "metadata": {},
   "source": [
    ">Precision and Recall"
   ]
  },
  {
   "cell_type": "code",
   "execution_count": 7,
   "metadata": {},
   "outputs": [],
   "source": [
    "#Precision = TP/(FP+TP)\n",
    "#Recall = TP/(FN+TP)\n",
    "from sklearn.metrics import accuracy_score, confusion_matrix \n",
    "from sklearn.metrics import recall_score, precision_score\n",
    "\n",
    "def get_clf_eval(y_test, pred):\n",
    "    confusion = confusion_matrix(y_test, pred)\n",
    "    accuracy = accuracy_score(y_test, pred)\n",
    "    precision = precision_score(y_test, pred)\n",
    "    recall = recall_score(y_test, pred)\n",
    "    print('Confusion Matrix:\\n', confusion, sep='')\n",
    "    print('Accuracy: {:.4f}, Precision: {:.4f}, Recall: {:.4f}'.format(\n",
    "        accuracy, precision, recall))"
   ]
  },
  {
   "cell_type": "code",
   "execution_count": 8,
   "metadata": {},
   "outputs": [],
   "source": [
    "def fillna(df):\n",
    "    df['Age'].fillna(df['Age'].mean(), inplace=True)\n",
    "    df['Cabin'].fillna('N', inplace=True)\n",
    "    df['Embarked'].fillna('N', inplace=True)\n",
    "    df['Fare'].fillna(0, inplace=True)\n",
    "    return df\n",
    "\n",
    "def drop_features(df):\n",
    "    df.drop(['PassengerId', 'Name', 'Ticket'], axis=1, inplace=True)\n",
    "    return df\n",
    "\n",
    "def label_encoding(df):\n",
    "    df['Cabin'] = df['Cabin'].str[:1]\n",
    "    features = ['Cabin', 'Sex', 'Embarked']\n",
    "    for feature in features:\n",
    "        encoder = LabelEncoder()\n",
    "        encoder.fit(df[feature])\n",
    "        df[feature] = encoder.transform(df[feature])\n",
    "    return df\n",
    "\n",
    "def transform_features(df):\n",
    "    df = fillna(df)\n",
    "    df = drop_features(df)\n",
    "    df = label_encoding(df)\n",
    "    return df"
   ]
  },
  {
   "cell_type": "code",
   "execution_count": 9,
   "metadata": {},
   "outputs": [
    {
     "name": "stdout",
     "output_type": "stream",
     "text": [
      "Confusion Matrix:\n",
      "[[104  13]\n",
      " [ 14  48]]\n",
      "Accuracy: 0.8492, Precision: 0.7869, Recall: 0.7742\n"
     ]
    },
    {
     "name": "stderr",
     "output_type": "stream",
     "text": [
      "c:\\Users\\user\\anaconda3\\lib\\site-packages\\sklearn\\linear_model\\_logistic.py:814: ConvergenceWarning: lbfgs failed to converge (status=1):\n",
      "STOP: TOTAL NO. of ITERATIONS REACHED LIMIT.\n",
      "\n",
      "Increase the number of iterations (max_iter) or scale the data as shown in:\n",
      "    https://scikit-learn.org/stable/modules/preprocessing.html\n",
      "Please also refer to the documentation for alternative solver options:\n",
      "    https://scikit-learn.org/stable/modules/linear_model.html#logistic-regression\n",
      "  n_iter_i = _check_optimize_result(\n"
     ]
    }
   ],
   "source": [
    "from sklearn.model_selection import train_test_split\n",
    "from sklearn.linear_model import LogisticRegression\n",
    "\n",
    "titanic_df = pd.read_csv(r'.\\titanic\\train.csv')\n",
    "\n",
    "target = titanic_df['Survived']\n",
    "data = titanic_df.drop('Survived', axis=1)\n",
    "data = transform_features(data)\n",
    "\n",
    "X_train, X_test, Y_train, Y_test = train_test_split(\n",
    "    data, target, test_size=0.2, random_state=11)\n",
    "\n",
    "LogReg = LogisticRegression()\n",
    "LogReg.fit(X_train, Y_train)\n",
    "LG_pred = LogReg.predict(X_test)\n",
    "get_clf_eval(LG_pred, Y_test)\n"
   ]
  },
  {
   "cell_type": "markdown",
   "metadata": {},
   "source": [
    ">Trade-off between Precision & Recall"
   ]
  },
  {
   "cell_type": "code",
   "execution_count": 10,
   "metadata": {},
   "outputs": [
    {
     "name": "stdout",
     "output_type": "stream",
     "text": [
      "pred_proba.shape: (179, 2)\n",
      "pred_proba[:3]:\n",
      " [[0.46161968 0.53838032]\n",
      " [0.87858765 0.12141235]\n",
      " [0.87723954 0.12276046]]\n",
      "pred_proba_result:\n",
      " [[0.46161968 0.53838032 1.        ]\n",
      " [0.87858765 0.12141235 0.        ]\n",
      " [0.87723954 0.12276046 0.        ]\n",
      " [0.88285166 0.11714834 0.        ]\n",
      " [0.85504702 0.14495298 0.        ]\n",
      " [0.88231291 0.11768709 0.        ]\n",
      " [0.88835666 0.11164334 0.        ]\n",
      " [0.20912699 0.79087301 1.        ]\n",
      " [0.78253105 0.21746895 0.        ]\n",
      " [0.36999788 0.63000212 1.        ]\n",
      " [0.89989426 0.10010574 0.        ]\n",
      " [0.87477198 0.12522802 0.        ]\n",
      " [0.87723362 0.12276638 0.        ]\n",
      " [0.88831122 0.11168878 0.        ]\n",
      " [0.43510975 0.56489025 1.        ]\n",
      " [0.85883259 0.14116741 0.        ]\n",
      " [0.90373558 0.09626442 0.        ]\n",
      " [0.73313381 0.26686619 0.        ]\n",
      " [0.72424423 0.27575577 0.        ]\n",
      " [0.1725394  0.8274606  1.        ]]\n"
     ]
    }
   ],
   "source": [
    "pred_proba = LogReg.predict_proba(X_test)\n",
    "pred = LogReg.predict(X_test)\n",
    "print('pred_proba.shape:', pred_proba.shape)\n",
    "print('pred_proba[:3]:\\n', pred_proba[:3])\n",
    "\n",
    "pred_proba_result = np.concatenate([pred_proba, pred.reshape(-1,1)], axis = 1)\n",
    "print('pred_proba_result:\\n', pred_proba_result[:20])"
   ]
  },
  {
   "cell_type": "code",
   "execution_count": 11,
   "metadata": {},
   "outputs": [
    {
     "name": "stdout",
     "output_type": "stream",
     "text": [
      "[[0. 0. 1.]\n",
      " [1. 0. 0.]\n",
      " [0. 0. 1.]]\n"
     ]
    }
   ],
   "source": [
    "from sklearn.preprocessing import Binarizer\n",
    "\n",
    "X = [[1, -1, 2],\n",
    "     [2, 0, 0],\n",
    "     [0, 1.1, 1.2]]\n",
    "\n",
    "binarizer = Binarizer(threshold=1.1)\n",
    "print(binarizer.fit_transform(X))\n"
   ]
  },
  {
   "cell_type": "code",
   "execution_count": 12,
   "metadata": {},
   "outputs": [
    {
     "name": "stdout",
     "output_type": "stream",
     "text": [
      "(179,)\n",
      "(179,)\n",
      "(179, 1)\n"
     ]
    }
   ],
   "source": [
    "print(Y_test.shape)\n",
    "print(pred_proba[:,1].shape)\n",
    "print(pred_proba[:,1].reshape(-1,1).shape)\n"
   ]
  },
  {
   "cell_type": "code",
   "execution_count": 13,
   "metadata": {},
   "outputs": [
    {
     "name": "stdout",
     "output_type": "stream",
     "text": [
      "Confusion Matrix:\n",
      "[[104  14]\n",
      " [ 13  48]]\n",
      "Accuracy: 0.8492, Precision: 0.7742, Recall: 0.7869\n"
     ]
    }
   ],
   "source": [
    "pred_proba = LogReg.predict_proba(X_test)\n",
    "\n",
    "binarizer = Binarizer(threshold=0.5)\n",
    "pred_prob_1 = pred_proba[:,1].reshape(-1,1)\n",
    "prediction = binarizer.fit_transform(pred_prob_1)\n",
    "\n",
    "get_clf_eval(Y_test, prediction)"
   ]
  },
  {
   "cell_type": "code",
   "execution_count": 14,
   "metadata": {},
   "outputs": [
    {
     "name": "stdout",
     "output_type": "stream",
     "text": [
      "Confusion Matrix:\n",
      "[[99 19]\n",
      " [10 51]]\n",
      "Accuracy: 0.8380, Precision: 0.7286, Recall: 0.8361\n"
     ]
    }
   ],
   "source": [
    "pred_proba = LogReg.predict_proba(X_test)\n",
    "\n",
    "#change threshold 0.5 -> 0.4\n",
    "binarizer = Binarizer(threshold=0.4)\n",
    "pred_prob_1 = pred_proba[:,1].reshape(-1,1)\n",
    "prediction = binarizer.fit_transform(pred_prob_1)\n",
    "\n",
    "get_clf_eval(Y_test, prediction)"
   ]
  },
  {
   "cell_type": "code",
   "execution_count": 15,
   "metadata": {},
   "outputs": [
    {
     "name": "stdout",
     "output_type": "stream",
     "text": [
      "Threshold: 0.4\n",
      "Confusion Matrix:\n",
      "[[99 19]\n",
      " [10 51]]\n",
      "Accuracy: 0.8380, Precision: 0.7286, Recall: 0.8361\n",
      "-------------\n",
      "Threshold: 0.45\n",
      "Confusion Matrix:\n",
      "[[103  15]\n",
      " [ 12  49]]\n",
      "Accuracy: 0.8492, Precision: 0.7656, Recall: 0.8033\n",
      "-------------\n",
      "Threshold: 0.5\n",
      "Confusion Matrix:\n",
      "[[104  14]\n",
      " [ 13  48]]\n",
      "Accuracy: 0.8492, Precision: 0.7742, Recall: 0.7869\n",
      "-------------\n",
      "Threshold: 0.55\n",
      "Confusion Matrix:\n",
      "[[109   9]\n",
      " [ 15  46]]\n",
      "Accuracy: 0.8659, Precision: 0.8364, Recall: 0.7541\n",
      "-------------\n",
      "Threshold: 0.6\n",
      "Confusion Matrix:\n",
      "[[112   6]\n",
      " [ 16  45]]\n",
      "Accuracy: 0.8771, Precision: 0.8824, Recall: 0.7377\n",
      "-------------\n"
     ]
    }
   ],
   "source": [
    "thresholds = [0.4, 0.45, 0.5, 0.55, 0.6]\n",
    "\n",
    "def get_eval_by_threshold(target, pred_prob_1, thresholds):\n",
    "    for thresh in thresholds:\n",
    "        binarizer = Binarizer(threshold=thresh)\n",
    "        binarizer.fit(pred_prob_1)\n",
    "        pred = binarizer.transform(pred_prob_1)\n",
    "        pred1 = pred[:,1].reshape(-1,1)\n",
    "        print('Threshold:', thresh)\n",
    "        get_clf_eval(target, pred1)\n",
    "        print('-------------')\n",
    "\n",
    "get_eval_by_threshold(Y_test, pred_proba, thresholds)"
   ]
  },
  {
   "cell_type": "code",
   "execution_count": 16,
   "metadata": {},
   "outputs": [],
   "source": [
    "#Precision = TP/(FP+TP)\n",
    "#Recall = TP/(FN+TP)\n",
    "from sklearn.metrics import accuracy_score, confusion_matrix \n",
    "from sklearn.metrics import recall_score, precision_score\n",
    "\n",
    "def get_clf_eval_1(y_test, pred):\n",
    "    confusion = confusion_matrix(y_test, pred)\n",
    "    accuracy = accuracy_score(y_test, pred)\n",
    "    precision = precision_score(y_test, pred)\n",
    "    recall = recall_score(y_test, pred)\n",
    "    return [accuracy, precision, recall]"
   ]
  },
  {
   "cell_type": "code",
   "execution_count": 17,
   "metadata": {},
   "outputs": [
    {
     "name": "stdout",
     "output_type": "stream",
     "text": [
      "Threshold: 0.4\n",
      "Confusion Matrix:\n",
      "[[99 19]\n",
      " [10 51]]\n",
      "Accuracy: 0.8380, Precision: 0.7286, Recall: 0.8361\n",
      "-------------\n",
      "Threshold: 0.45\n",
      "Confusion Matrix:\n",
      "[[103  15]\n",
      " [ 12  49]]\n",
      "Accuracy: 0.8492, Precision: 0.7656, Recall: 0.8033\n",
      "-------------\n",
      "Threshold: 0.5\n",
      "Confusion Matrix:\n",
      "[[104  14]\n",
      " [ 13  48]]\n",
      "Accuracy: 0.8492, Precision: 0.7742, Recall: 0.7869\n",
      "-------------\n",
      "Threshold: 0.55\n",
      "Confusion Matrix:\n",
      "[[109   9]\n",
      " [ 15  46]]\n",
      "Accuracy: 0.8659, Precision: 0.8364, Recall: 0.7541\n",
      "-------------\n",
      "Threshold: 0.6\n",
      "Confusion Matrix:\n",
      "[[112   6]\n",
      " [ 16  45]]\n",
      "Accuracy: 0.8771, Precision: 0.8824, Recall: 0.7377\n",
      "-------------\n"
     ]
    }
   ],
   "source": [
    "thresholds = [0.4, 0.45, 0.5, 0.55, 0.6]\n",
    "\n",
    "def get_eval_by_threshold1(target, pred_prob_1, thresholds):\n",
    "    dict = {}\n",
    "\n",
    "    for thresh in thresholds:\n",
    "        binarizer = Binarizer(threshold=thresh)\n",
    "        binarizer.fit(pred_prob_1)\n",
    "        pred = binarizer.transform(pred_prob_1)\n",
    "        pred1 = pred[:,1].reshape(-1,1)\n",
    "        # print('Threshold:', thresh)\n",
    "        acc_pre_re = get_clf_eval_1(target, pred1)\n",
    "        dict[thresh] = acc_pre_re\n",
    "\n",
    "    df = pd.DataFrame(dict)\n",
    "    df.index = ['Accuracy', 'Precision', 'Recall']\n",
    "    return df\n",
    "    \n",
    "get_eval_by_threshold(Y_test, pred_proba, thresholds)"
   ]
  },
  {
   "cell_type": "code",
   "execution_count": 18,
   "metadata": {},
   "outputs": [
    {
     "name": "stdout",
     "output_type": "stream",
     "text": [
      "Shape of Thresholds: (143,)\n",
      "Sampled Thresholds' index:\n",
      "[  0  15  30  45  60  75  90 105 120 135]\n",
      "Sampled Thresholds\n",
      "[0.104  0.1214 0.1403 0.1863 0.2807 0.4039 0.5649 0.667  0.8221 0.9473]\n",
      "Precision for each Thresholds\n",
      ":[0.3885 0.4403 0.4661 0.5392 0.6471 0.7286 0.8364 0.9487 0.9583 1.    ]\n",
      "Recall for each Thresholds:\n",
      "[1.     0.9672 0.9016 0.9016 0.9016 0.8361 0.7541 0.6066 0.377  0.1475]\n"
     ]
    },
    {
     "data": {
      "text/html": [
       "<div>\n",
       "<style scoped>\n",
       "    .dataframe tbody tr th:only-of-type {\n",
       "        vertical-align: middle;\n",
       "    }\n",
       "\n",
       "    .dataframe tbody tr th {\n",
       "        vertical-align: top;\n",
       "    }\n",
       "\n",
       "    .dataframe thead th {\n",
       "        text-align: right;\n",
       "    }\n",
       "</style>\n",
       "<table border=\"1\" class=\"dataframe\">\n",
       "  <thead>\n",
       "    <tr style=\"text-align: right;\">\n",
       "      <th></th>\n",
       "      <th>0.103962</th>\n",
       "      <th>0.121412</th>\n",
       "      <th>0.140311</th>\n",
       "      <th>0.186324</th>\n",
       "      <th>0.280733</th>\n",
       "      <th>0.403945</th>\n",
       "      <th>0.564890</th>\n",
       "      <th>0.666990</th>\n",
       "      <th>0.822132</th>\n",
       "      <th>0.947324</th>\n",
       "    </tr>\n",
       "  </thead>\n",
       "  <tbody>\n",
       "    <tr>\n",
       "      <th>Precision</th>\n",
       "      <td>0.388535</td>\n",
       "      <td>0.440299</td>\n",
       "      <td>0.466102</td>\n",
       "      <td>0.539216</td>\n",
       "      <td>0.647059</td>\n",
       "      <td>0.728571</td>\n",
       "      <td>0.836364</td>\n",
       "      <td>0.948718</td>\n",
       "      <td>0.958333</td>\n",
       "      <td>1.000000</td>\n",
       "    </tr>\n",
       "    <tr>\n",
       "      <th>Recall</th>\n",
       "      <td>1.000000</td>\n",
       "      <td>0.967213</td>\n",
       "      <td>0.901639</td>\n",
       "      <td>0.901639</td>\n",
       "      <td>0.901639</td>\n",
       "      <td>0.836066</td>\n",
       "      <td>0.754098</td>\n",
       "      <td>0.606557</td>\n",
       "      <td>0.377049</td>\n",
       "      <td>0.147541</td>\n",
       "    </tr>\n",
       "  </tbody>\n",
       "</table>\n",
       "</div>"
      ],
      "text/plain": [
       "           0.103962  0.121412  0.140311  0.186324  0.280733  0.403945  \\\n",
       "Precision  0.388535  0.440299  0.466102  0.539216  0.647059  0.728571   \n",
       "Recall     1.000000  0.967213  0.901639  0.901639  0.901639  0.836066   \n",
       "\n",
       "           0.564890  0.666990  0.822132  0.947324  \n",
       "Precision  0.836364  0.948718  0.958333  1.000000  \n",
       "Recall     0.754098  0.606557  0.377049  0.147541  "
      ]
     },
     "execution_count": 18,
     "metadata": {},
     "output_type": "execute_result"
    }
   ],
   "source": [
    "from sklearn.metrics import precision_recall_curve\n",
    "\n",
    "pred_proba_class1 = LogReg.predict_proba(X_test)[:, 1]\n",
    "precisions, recalls, thresholds = precision_recall_curve(\n",
    "    Y_test, pred_proba_class1)\n",
    "print('Shape of Thresholds:', thresholds.shape)\n",
    "\n",
    "thr_index = np.arange(0,thresholds.shape[0], 15)\n",
    "print(\"Sampled Thresholds' index:\\n\", thr_index, sep='')\n",
    "print(\"Sampled Thresholds\\n\", np.round(thresholds[thr_index],4), sep='')\n",
    "print(\"Precision for each Thresholds\\n:\", np.round(precisions[thr_index],4), sep='')\n",
    "print(\"Recall for each Thresholds:\\n\", np.round(recalls[thr_index],4), sep='')\n",
    "\n",
    "prc_dict = {}\n",
    "for i in thr_index:\n",
    "    prc_dict[thresholds[i]] = precisions[i], recalls[i]\n",
    "prc_df = pd.DataFrame(prc_dict)\n",
    "prc_df.index = ['Precision', 'Recall']\n",
    "prc_df"
   ]
  },
  {
   "cell_type": "code",
   "execution_count": 19,
   "metadata": {},
   "outputs": [
    {
     "data": {
      "image/png": "[encoded data removed]",
      "text/plain": [
       "<Figure size 576x432 with 1 Axes>"
      ]
     },
     "metadata": {
      "needs_background": "light"
     },
     "output_type": "display_data"
    }
   ],
   "source": [
    "import matplotlib.pyplot as plt\n",
    "import matplotlib.ticker as ticker\n",
    "%matplotlib inline\n",
    "\n",
    "pred_proba_class1 = LogReg.predict_proba(X_test)[:, 1]\n",
    "\n",
    "def precision_recall_curve_plot(Y_test, pred_proba_class1):\n",
    "    precisions, recalls, thresholds = precision_recall_curve(Y_test, pred_proba_class1)\n",
    "    \n",
    "    plt.figure(figsize=(8,6))\n",
    "    threshold_boundary = thresholds.shape[0]\n",
    "    plt.plot(thresholds, precisions[:threshold_boundary], linestyle='--', label='precision')\n",
    "    plt.plot(thresholds, recalls[:threshold_boundary], label='recall')\n",
    "\n",
    "    start, end = plt.xlim()\n",
    "    plt.xticks(np.round(np.arange(start, end, 0.1), 2))\n",
    "\n",
    "    plt.xlabel('Threshold value')\n",
    "    plt.ylabel('Precision and Recall value')\n",
    "    plt.legend()\n",
    "    plt.grid()\n",
    "    plt.show()\n",
    "\n",
    "precision_recall_curve_plot(Y_test, pred_proba_class1)"
   ]
  },
  {
   "cell_type": "markdown",
   "metadata": {},
   "source": [
    ">F1 Score"
   ]
  },
  {
   "cell_type": "code",
   "execution_count": 20,
   "metadata": {},
   "outputs": [
    {
     "name": "stdout",
     "output_type": "stream",
     "text": [
      "F1 Score: 0.7805\n"
     ]
    }
   ],
   "source": [
    "from sklearn.metrics import f1_score\n",
    "f1 = f1_score(Y_test, pred)\n",
    "print('F1 Score:', np.round(f1, 4))"
   ]
  },
  {
   "cell_type": "code",
   "execution_count": 21,
   "metadata": {},
   "outputs": [
    {
     "data": {
      "text/html": [
       "<div>\n",
       "<style scoped>\n",
       "    .dataframe tbody tr th:only-of-type {\n",
       "        vertical-align: middle;\n",
       "    }\n",
       "\n",
       "    .dataframe tbody tr th {\n",
       "        vertical-align: top;\n",
       "    }\n",
       "\n",
       "    .dataframe thead th {\n",
       "        text-align: right;\n",
       "    }\n",
       "</style>\n",
       "<table border=\"1\" class=\"dataframe\">\n",
       "  <thead>\n",
       "    <tr style=\"text-align: right;\">\n",
       "      <th></th>\n",
       "      <th>0.40</th>\n",
       "      <th>0.45</th>\n",
       "      <th>0.50</th>\n",
       "      <th>0.55</th>\n",
       "      <th>0.60</th>\n",
       "    </tr>\n",
       "  </thead>\n",
       "  <tbody>\n",
       "    <tr>\n",
       "      <th>Accuracy</th>\n",
       "      <td>0.837989</td>\n",
       "      <td>0.849162</td>\n",
       "      <td>0.849162</td>\n",
       "      <td>0.865922</td>\n",
       "      <td>0.877095</td>\n",
       "    </tr>\n",
       "    <tr>\n",
       "      <th>Precision</th>\n",
       "      <td>0.728571</td>\n",
       "      <td>0.765625</td>\n",
       "      <td>0.774194</td>\n",
       "      <td>0.836364</td>\n",
       "      <td>0.882353</td>\n",
       "    </tr>\n",
       "    <tr>\n",
       "      <th>Recall</th>\n",
       "      <td>0.836066</td>\n",
       "      <td>0.803279</td>\n",
       "      <td>0.786885</td>\n",
       "      <td>0.754098</td>\n",
       "      <td>0.737705</td>\n",
       "    </tr>\n",
       "    <tr>\n",
       "      <th>F1_Score</th>\n",
       "      <td>0.778626</td>\n",
       "      <td>0.784000</td>\n",
       "      <td>0.780488</td>\n",
       "      <td>0.793103</td>\n",
       "      <td>0.803571</td>\n",
       "    </tr>\n",
       "  </tbody>\n",
       "</table>\n",
       "</div>"
      ],
      "text/plain": [
       "               0.40      0.45      0.50      0.55      0.60\n",
       "Accuracy   0.837989  0.849162  0.849162  0.865922  0.877095\n",
       "Precision  0.728571  0.765625  0.774194  0.836364  0.882353\n",
       "Recall     0.836066  0.803279  0.786885  0.754098  0.737705\n",
       "F1_Score   0.778626  0.784000  0.780488  0.793103  0.803571"
      ]
     },
     "execution_count": 21,
     "metadata": {},
     "output_type": "execute_result"
    }
   ],
   "source": [
    "from sklearn.metrics import accuracy_score, confusion_matrix \n",
    "from sklearn.metrics import recall_score, precision_score\n",
    "\n",
    "def get_clf_eval_2(y_test, pred):\n",
    "    confusion = confusion_matrix(y_test, pred)\n",
    "    accuracy = accuracy_score(y_test, pred)\n",
    "    precision = precision_score(y_test, pred)\n",
    "    recall = recall_score(y_test, pred)\n",
    "    f1 = f1_score(Y_test, pred)\n",
    "    return [accuracy, precision, recall, f1]\n",
    "\n",
    "thresholds = [0.4, 0.45, 0.5, 0.55, 0.6]\n",
    "\n",
    "def get_eval_by_threshold2(target, pred_prob_1, thresholds):\n",
    "    dict = {}\n",
    "\n",
    "    for thresh in thresholds:\n",
    "        binarizer = Binarizer(threshold=thresh)\n",
    "        binarizer.fit(pred_prob_1)\n",
    "        pred = binarizer.transform(pred_prob_1)\n",
    "        pred1 = pred[:,1].reshape(-1,1)\n",
    "        # print('Threshold:', thresh)\n",
    "        acc_pre_re_f1 = get_clf_eval_2(target, pred1)\n",
    "        dict[thresh] = acc_pre_re_f1\n",
    "\n",
    "    df = pd.DataFrame(dict)\n",
    "    df.index = ['Accuracy', 'Precision', 'Recall', 'F1_Score']\n",
    "    return df\n",
    "    \n",
    "get_eval_by_threshold2(Y_test, pred_proba, thresholds)"
   ]
  },
  {
   "cell_type": "markdown",
   "metadata": {},
   "source": [
    ">ROC(Receiver Operation Characteristic) Curve & AUC(Area Under Curve) Score"
   ]
  },
  {
   "cell_type": "code",
   "execution_count": 22,
   "metadata": {},
   "outputs": [
    {
     "name": "stdout",
     "output_type": "stream",
     "text": [
      "Sampled Thresholds' index:\n",
      "[ 1  6 11 16 21 26 31 36 41 46 51]\n",
      "Sampled Thresholds\n",
      "[0.9652 0.6543 0.6303 0.5649 0.4546 0.3803 0.3092 0.1291 0.1228 0.1117\n",
      " 0.104 ]\n",
      "False Positive Rate for each Thresholds\n",
      ":[0.     0.0169 0.0339 0.0763 0.1271 0.1864 0.2373 0.5763 0.6186 0.7542\n",
      " 0.8136]\n",
      "True Positive Rate for each Thresholds:\n",
      "[0.0328 0.6393 0.7049 0.7541 0.8033 0.8525 0.9016 0.9016 0.9508 0.9672\n",
      " 1.    ]\n"
     ]
    },
    {
     "data": {
      "text/html": [
       "<div>\n",
       "<style scoped>\n",
       "    .dataframe tbody tr th:only-of-type {\n",
       "        vertical-align: middle;\n",
       "    }\n",
       "\n",
       "    .dataframe tbody tr th {\n",
       "        vertical-align: top;\n",
       "    }\n",
       "\n",
       "    .dataframe thead th {\n",
       "        text-align: right;\n",
       "    }\n",
       "</style>\n",
       "<table border=\"1\" class=\"dataframe\">\n",
       "  <thead>\n",
       "    <tr style=\"text-align: right;\">\n",
       "      <th></th>\n",
       "      <th>0.965154</th>\n",
       "      <th>0.654265</th>\n",
       "      <th>0.630328</th>\n",
       "      <th>0.564890</th>\n",
       "      <th>0.454600</th>\n",
       "      <th>0.380268</th>\n",
       "      <th>0.309167</th>\n",
       "      <th>0.129135</th>\n",
       "      <th>0.122761</th>\n",
       "      <th>0.111689</th>\n",
       "      <th>0.103962</th>\n",
       "    </tr>\n",
       "  </thead>\n",
       "  <tbody>\n",
       "    <tr>\n",
       "      <th>FPR</th>\n",
       "      <td>0.000000</td>\n",
       "      <td>0.016949</td>\n",
       "      <td>0.033898</td>\n",
       "      <td>0.076271</td>\n",
       "      <td>0.127119</td>\n",
       "      <td>0.186441</td>\n",
       "      <td>0.237288</td>\n",
       "      <td>0.576271</td>\n",
       "      <td>0.618644</td>\n",
       "      <td>0.754237</td>\n",
       "      <td>0.813559</td>\n",
       "    </tr>\n",
       "    <tr>\n",
       "      <th>TPR</th>\n",
       "      <td>0.032787</td>\n",
       "      <td>0.639344</td>\n",
       "      <td>0.704918</td>\n",
       "      <td>0.754098</td>\n",
       "      <td>0.803279</td>\n",
       "      <td>0.852459</td>\n",
       "      <td>0.901639</td>\n",
       "      <td>0.901639</td>\n",
       "      <td>0.950820</td>\n",
       "      <td>0.967213</td>\n",
       "      <td>1.000000</td>\n",
       "    </tr>\n",
       "  </tbody>\n",
       "</table>\n",
       "</div>"
      ],
      "text/plain": [
       "     0.965154  0.654265  0.630328  0.564890  0.454600  0.380268  0.309167  \\\n",
       "FPR  0.000000  0.016949  0.033898  0.076271  0.127119  0.186441  0.237288   \n",
       "TPR  0.032787  0.639344  0.704918  0.754098  0.803279  0.852459  0.901639   \n",
       "\n",
       "     0.129135  0.122761  0.111689  0.103962  \n",
       "FPR  0.576271  0.618644  0.754237  0.813559  \n",
       "TPR  0.901639  0.950820  0.967213  1.000000  "
      ]
     },
     "execution_count": 22,
     "metadata": {},
     "output_type": "execute_result"
    }
   ],
   "source": [
    "from sklearn.metrics import roc_curve\n",
    "\n",
    "pred_proba_class1 = LogReg.predict_proba(X_test)[:,1]\n",
    "\n",
    "FPRs, TPRs, thresholds = roc_curve(Y_test, pred_proba_class1)\n",
    "thr_index = np.arange(1, thresholds.shape[0], 5)\n",
    "\n",
    "print(\"Sampled Thresholds' index:\\n\", thr_index, sep='')\n",
    "print(\"Sampled Thresholds\\n\", np.round(thresholds[thr_index],4), sep='')\n",
    "print(\"False Positive Rate for each Thresholds\\n:\", np.round(FPRs[thr_index],4), sep='')\n",
    "print(\"True Positive Rate for each Thresholds:\\n\", np.round(TPRs[thr_index],4), sep='')\n",
    "\n",
    "ROC_dict = {}\n",
    "for i in thr_index:\n",
    "    ROC_dict[thresholds[i]] = FPRs[i], TPRs[i]\n",
    "ROC_df = pd.DataFrame(ROC_dict)\n",
    "ROC_df.index = ['FPR', 'TPR']\n",
    "ROC_df"
   ]
  },
  {
   "cell_type": "code",
   "execution_count": 23,
   "metadata": {},
   "outputs": [
    {
     "data": {
      "image/png": "[encoded data removed]",
      "text/plain": [
       "<Figure size 576x432 with 1 Axes>"
      ]
     },
     "metadata": {
      "needs_background": "light"
     },
     "output_type": "display_data"
    }
   ],
   "source": [
    "def roc_curve_plt(Y_test, pred_proba_class1):\n",
    "    FPRs, TPRs, thresholds = roc_curve(Y_test, pred_proba_class1)\n",
    "    \n",
    "    plt.figure(figsize=(8,6))\n",
    "    plt.plot(FPRs, TPRs, label = 'ROC')\n",
    "    plt.plot([0,1],[0,1],'k--',label='Random')\n",
    "\n",
    "    start, end = plt.xlim()\n",
    "    plt.xticks(np.round(np.arange(start, end, 0.1), 2))\n",
    "    plt.xlim(0,1);plt.ylim(0,1)\n",
    "    plt.xlabel('FPR(1-Sensitivity)')\n",
    "    plt.ylabel('TPR(Recall)')\n",
    "    plt.legend()\n",
    "    \n",
    "\n",
    "roc_curve_plt(Y_test, pred_proba_class1)"
   ]
  },
  {
   "cell_type": "code",
   "execution_count": 24,
   "metadata": {},
   "outputs": [
    {
     "name": "stdout",
     "output_type": "stream",
     "text": [
      "ROC AUC: 0.9024034454015004\n"
     ]
    }
   ],
   "source": [
    "from sklearn.metrics import roc_auc_score\n",
    "\n",
    "roc_score = roc_auc_score(Y_test, pred_proba_class1)\n",
    "print('ROC AUC:', roc_score)"
   ]
  }
 ],
 "metadata": {
  "kernelspec": {
   "display_name": "Python 3.9.7 ('base')",
   "language": "python",
   "name": "python3"
  },
  "language_info": {
   "codemirror_mode": {
    "name": "ipython",
    "version": 3
   },
   "file_extension": ".py",
   "mimetype": "text/x-python",
   "name": "python",
   "nbconvert_exporter": "python",
   "pygments_lexer": "ipython3",
   "version": "3.9.12"
  },
  "orig_nbformat": 4,
  "vscode": {
   "interpreter": {
    "hash": "a077222d77dfe082b8f1dd562ad70e458ac2ab76993a0b248ab0476e32e9e8dd"
   }
  }
 },
 "nbformat": 4,
 "nbformat_minor": 2
}
