{
 "cells": [
  {
   "cell_type": "markdown",
   "metadata": {},
   "source": [
    "# Regression"
   ]
  },
  {
   "cell_type": "markdown",
   "metadata": {},
   "source": [
    "## Introduction to Regression"
   ]
  },
  {
   "cell_type": "markdown",
   "metadata": {},
   "source": [
    "Single Linear Regression: One-dimensional Regression  \n",
    "Multiple Linear Regression: Multi-dimensional Regression  \n",
    "Ridge Regression: Add L2 Regularization > make large coefficient values smaller  \n",
    "Lasso Regression: Add L1 Regularization > make small coefficient values to 0(a.k.a. Feature selection)  \n",
    "ElasticNet: Add L1&L2 Regularization  \n",
    "Logistic Regression: Seems to Classification"
   ]
  },
  {
   "cell_type": "markdown",
   "metadata": {},
   "source": [
    "MAE(Mean Absolute Error): mean of absolute value of errors  \n",
    "RSS(Residual Sum of Error): mean of squared error  "
   ]
  },
  {
   "cell_type": "markdown",
   "metadata": {},
   "source": [
    "## Gradient Descent"
   ]
  },
  {
   "cell_type": "markdown",
   "metadata": {},
   "source": [
    "If there are less features, we can use multi-dimensional equation to find regression coefficents. However, as feature get bigger, it's difficult to calculate regression coefficients by equtation. But Gradient Descent(GD) can!  \n",
    "  \n",
    "Gradinet Descent: By repetitive calculation, update parameter values to make min error value  "
   ]
  },
  {
   "cell_type": "code",
   "execution_count": 55,
   "metadata": {},
   "outputs": [
    {
     "name": "stdout",
     "output_type": "stream",
     "text": [
      "Shape of X: (100, 1)\n",
      "Shape of y: (100, 1)\n"
     ]
    },
    {
     "data": {
      "text/plain": [
       "<matplotlib.collections.PathCollection at 0x15720d9e9a0>"
      ]
     },
     "execution_count": 55,
     "metadata": {},
     "output_type": "execute_result"
    },
    {
     "data": {
      "image/png": "[encoded data removed]",
      "text/plain": [
       "<Figure size 432x288 with 1 Axes>"
      ]
     },
     "metadata": {
      "needs_background": "light"
     },
     "output_type": "display_data"
    }
   ],
   "source": [
    "import numpy as np\n",
    "import matplotlib.pyplot as plt\n",
    "%matplotlib inline\n",
    "\n",
    "np.random.seed(0)\n",
    "# we want to make random value from y=4x+6\n",
    "X = 2*np.random.rand(100,1)\n",
    "print('Shape of X:', X.shape)\n",
    "y = 6+4*X + np.random.randn(100,1)\n",
    "print('Shape of y:', y.shape)\n",
    "\n",
    "plt.scatter(X,y)"
   ]
  },
  {
   "cell_type": "code",
   "execution_count": 56,
   "metadata": {},
   "outputs": [],
   "source": [
    "def get_cost(y, y_pred):\n",
    "    N = len(y)\n",
    "    cost = np.sum(np.square(y-y_pred))/N\n",
    "    return cost"
   ]
  },
  {
   "cell_type": "code",
   "execution_count": 57,
   "metadata": {},
   "outputs": [
    {
     "data": {
      "text/plain": [
       "array([[1, 3],\n",
       "       [2, 4]])"
      ]
     },
     "execution_count": 57,
     "metadata": {},
     "output_type": "execute_result"
    }
   ],
   "source": [
    "w1 = np.array([[1,2],[3,4]])\n",
    "w1.T"
   ]
  },
  {
   "cell_type": "code",
   "execution_count": 58,
   "metadata": {},
   "outputs": [
    {
     "data": {
      "text/plain": [
       "array([[0.]])"
      ]
     },
     "execution_count": 58,
     "metadata": {},
     "output_type": "execute_result"
    }
   ],
   "source": [
    "np.zeros((1,1))"
   ]
  },
  {
   "cell_type": "code",
   "execution_count": 59,
   "metadata": {},
   "outputs": [],
   "source": [
    "def get_weight_updates(w1, w0, X, y, learning_rate=0.01):\n",
    "    N = len(y)      # number of data\n",
    "    F = X.shape[1]  # number of feature\n",
    "\n",
    "    # Initialization w1_updated & w0_updated as same size as w1 & w0 with 0 values\n",
    "    w1_update = np.zeros_like(w1)\n",
    "    w0_update = np.zeros_like(w0)\n",
    "    \n",
    "    y_pred = np.dot(X, w1) + w0   # Calculate prediction matrix\n",
    "    diff = y - y_pred               # Calculate diff between prediction and actual value\n",
    "    \n",
    "    w1_update = (-2/N)*learning_rate*np.dot(X.T, diff)  #shape of w1: (# of features, 1)\n",
    "    w0_update = (-2/N)*learning_rate*np.sum(diff)       #shape of w0: (1, 1)\n",
    "\n",
    "    return w1_update, w0_update\n",
    "\n",
    "def gradient_descent_steps(X, y, iters=10000, learning_rate=0.01):\n",
    "    \n",
    "    w1 = np.zeros((X.shape[1],1)) #shape: (# of features, 1)\n",
    "    w0 = np.zeros((1, 1))         #shape: (1, 1)\n",
    "\n",
    "    for i in range(iters):\n",
    "        w1_update, w0_update = get_weight_updates(w1, w0, X, y, learning_rate=learning_rate)\n",
    "        w1 -= w1_update\n",
    "        w0 -= w0_update\n",
    "    \n",
    "    return w1, w0"
   ]
  },
  {
   "cell_type": "code",
   "execution_count": 60,
   "metadata": {},
   "outputs": [
    {
     "name": "stdout",
     "output_type": "stream",
     "text": [
      "w0: 6.162031\n",
      "w1:\n",
      "[[4.02181364]]\n",
      "Gradient Descent Total Cost: 0.993478\n"
     ]
    }
   ],
   "source": [
    "w1, w0 = gradient_descent_steps(X, y, iters=1000, learning_rate=0.01)\n",
    "print('w0: {:4f}'.format(w0[0,0]))\n",
    "print('w1:')\n",
    "print(w1)\n",
    "\n",
    "y_pred = np.dot(X,w1)+w0\n",
    "cost = get_cost(y, y_pred)\n",
    "print('Gradient Descent Total Cost: {:4f}'.format(cost))"
   ]
  },
  {
   "cell_type": "code",
   "execution_count": 61,
   "metadata": {},
   "outputs": [
    {
     "data": {
      "text/plain": [
       "[<matplotlib.lines.Line2D at 0x15720ba1160>]"
      ]
     },
     "execution_count": 61,
     "metadata": {},
     "output_type": "execute_result"
    },
    {
     "data": {
      "image/png": "[encoded data removed]",
      "text/plain": [
       "<Figure size 432x288 with 1 Axes>"
      ]
     },
     "metadata": {
      "needs_background": "light"
     },
     "output_type": "display_data"
    }
   ],
   "source": [
    "plt.scatter(X,y)\n",
    "plt.plot(X, y_pred)"
   ]
  },
  {
   "cell_type": "markdown",
   "metadata": {},
   "source": [
    "### Stochastic Gradient Descent(SGD)"
   ]
  },
  {
   "cell_type": "code",
   "execution_count": 62,
   "metadata": {},
   "outputs": [],
   "source": [
    "def stochastic_gradient_descent_steps(X, y, batch_size=10, iters=10000, learning_rate=0.01):\n",
    "    \n",
    "    w1 = np.zeros((X.shape[1],1)) #shape: (# of features, 1)\n",
    "    w0 = np.zeros((1, 1))         #shape: (1, 1)\n",
    "    prev_cost = 100000\n",
    "    iter_index=0\n",
    "\n",
    "    for i in range(iters):\n",
    "        stochastic_random_index = np.random.permutation(X.shape[0]) #Shuffle index of X\n",
    "        sample_X = X[stochastic_random_index[0:batch_size]]         #Sampling X by batchsize\n",
    "        sample_y = y[stochastic_random_index[0:batch_size]]         #Sampling y by batchsize\n",
    "\n",
    "        w1_update, w0_update = get_weight_updates(w1, w0, sample_X, sample_y, learning_rate=learning_rate)\n",
    "        w1 -= w1_update\n",
    "        w0 -= w0_update\n",
    "    \n",
    "    return w1, w0"
   ]
  },
  {
   "cell_type": "code",
   "execution_count": 63,
   "metadata": {},
   "outputs": [
    {
     "name": "stdout",
     "output_type": "stream",
     "text": [
      "w0: 6.137259\n",
      "w1:\n",
      "[[4.00668731]]\n",
      "Stochastic Gradient Descent Total Cost: 0.995301\n"
     ]
    }
   ],
   "source": [
    "w1, w0 = stochastic_gradient_descent_steps(X, y, iters=1000, batch_size=10, learning_rate=0.01)\n",
    "print('w0: {:4f}'.format(w0[0,0]))\n",
    "print('w1:')\n",
    "print(w1)\n",
    "\n",
    "y_pred = np.dot(X,w1)+w0\n",
    "cost = get_cost(y, y_pred)\n",
    "print('Stochastic Gradient Descent Total Cost: {:4f}'.format(cost))"
   ]
  },
  {
   "cell_type": "code",
   "execution_count": 64,
   "metadata": {},
   "outputs": [
    {
     "data": {
      "text/plain": [
       "[<matplotlib.lines.Line2D at 0x15720dda550>]"
      ]
     },
     "execution_count": 64,
     "metadata": {},
     "output_type": "execute_result"
    },
    {
     "data": {
      "image/png": "[encoded data removed]",
      "text/plain": [
       "<Figure size 432x288 with 1 Axes>"
      ]
     },
     "metadata": {
      "needs_background": "light"
     },
     "output_type": "display_data"
    }
   ],
   "source": [
    "plt.scatter(X,y)\n",
    "plt.plot(X, y_pred)"
   ]
  },
  {
   "cell_type": "code",
   "execution_count": 79,
   "metadata": {},
   "outputs": [
    {
     "name": "stdout",
     "output_type": "stream",
     "text": [
      "Shape of X: (1000, 2)\n",
      "Shape of y: (1000, 1)\n"
     ]
    }
   ],
   "source": [
    "# we want to make random value from y= 5w1 - 4w2 + 4\n",
    "X = np.concatenate((2*np.random.rand(1000,1), 3*np.random.rand(1000,1)), axis=1)\n",
    "print('Shape of X:', X.shape)\n",
    "w = np.array([[5],[-4]])\n",
    "y = 4 + np.dot(X,w) + np.random.randn(1000,1)\n",
    "print('Shape of y:', y.shape)\n"
   ]
  },
  {
   "cell_type": "code",
   "execution_count": 80,
   "metadata": {},
   "outputs": [
    {
     "name": "stdout",
     "output_type": "stream",
     "text": [
      "w0: 3.888133\n",
      "w1:\n",
      "[[ 5.01725428]\n",
      " [-3.94735334]]\n",
      "Gradient Descent Total Cost: 0.974396\n"
     ]
    }
   ],
   "source": [
    "w1, w0 = gradient_descent_steps(X, y, iters=5000, learning_rate=0.05)\n",
    "print('w0: {:4f}'.format(w0[0,0]))\n",
    "print('w1:')\n",
    "print(w1)\n",
    "\n",
    "y_pred = np.dot(X,w1)+w0\n",
    "cost = get_cost(y, y_pred)\n",
    "print('Gradient Descent Total Cost: {:4f}'.format(cost))"
   ]
  },
  {
   "cell_type": "markdown",
   "metadata": {},
   "source": [
    "## Boston Housing Price Prediction Example"
   ]
  },
  {
   "cell_type": "markdown",
   "metadata": {},
   "source": []
  }
 ],
 "metadata": {
  "kernelspec": {
   "display_name": "Python 3.9.12 ('base')",
   "language": "python",
   "name": "python3"
  },
  "language_info": {
   "codemirror_mode": {
    "name": "ipython",
    "version": 3
   },
   "file_extension": ".py",
   "mimetype": "text/x-python",
   "name": "python",
   "nbconvert_exporter": "python",
   "pygments_lexer": "ipython3",
   "version": "3.9.12"
  },
  "orig_nbformat": 4,
  "vscode": {
   "interpreter": {
    "hash": "a077222d77dfe082b8f1dd562ad70e458ac2ab76993a0b248ab0476e32e9e8dd"
   }
  }
 },
 "nbformat": 4,
 "nbformat_minor": 2
}
