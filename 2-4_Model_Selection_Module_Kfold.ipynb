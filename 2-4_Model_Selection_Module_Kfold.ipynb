{
 "cells": [
  {
   "cell_type": "code",
   "execution_count": 6,
   "metadata": {},
   "outputs": [],
   "source": [
    "from sklearn.tree import DecisionTreeClassifier\n",
    "from sklearn.metrics import accuracy_score\n",
    "from sklearn.model_selection import KFold\n",
    "from sklearn.datasets import load_iris\n",
    "import numpy as np"
   ]
  },
  {
   "cell_type": "code",
   "execution_count": 9,
   "metadata": {},
   "outputs": [
    {
     "name": "stdout",
     "output_type": "stream",
     "text": [
      "Shape of iris.data: (150, 4)\n"
     ]
    }
   ],
   "source": [
    "iris = load_iris()\n",
    "features = iris.data\n",
    "label = iris.target\n",
    "\n",
    "dt_clf = DecisionTreeClassifier(random_state=156)\n",
    "\n",
    "kfold = KFold(n_splits = 5)\n",
    "cv_accuracy = []\n",
    "print('Shape of iris.data:', features.shape)\n"
   ]
  },
  {
   "cell_type": "code",
   "execution_count": 16,
   "metadata": {},
   "outputs": [
    {
     "name": "stdout",
     "output_type": "stream",
     "text": [
      "#1/ Cross Validation Accuracy: 1.0, Size of train data: (120, 4), Size of Validation data: (30, 4)\n",
      "#1/ Indexes of Validation data set: [ 0  1  2  3  4  5  6  7  8  9 10 11 12 13 14 15 16 17 18 19 20 21 22 23\n",
      " 24 25 26 27 28 29]\n",
      "----------------------------------\n",
      "#2/ Cross Validation Accuracy: 0.9667, Size of train data: (120, 4), Size of Validation data: (30, 4)\n",
      "#2/ Indexes of Validation data set: [30 31 32 33 34 35 36 37 38 39 40 41 42 43 44 45 46 47 48 49 50 51 52 53\n",
      " 54 55 56 57 58 59]\n",
      "----------------------------------\n",
      "#3/ Cross Validation Accuracy: 0.8667, Size of train data: (120, 4), Size of Validation data: (30, 4)\n",
      "#3/ Indexes of Validation data set: [60 61 62 63 64 65 66 67 68 69 70 71 72 73 74 75 76 77 78 79 80 81 82 83\n",
      " 84 85 86 87 88 89]\n",
      "----------------------------------\n",
      "#4/ Cross Validation Accuracy: 0.9333, Size of train data: (120, 4), Size of Validation data: (30, 4)\n",
      "#4/ Indexes of Validation data set: [ 90  91  92  93  94  95  96  97  98  99 100 101 102 103 104 105 106 107\n",
      " 108 109 110 111 112 113 114 115 116 117 118 119]\n",
      "----------------------------------\n",
      "#5/ Cross Validation Accuracy: 0.7333, Size of train data: (120, 4), Size of Validation data: (30, 4)\n",
      "#5/ Indexes of Validation data set: [120 121 122 123 124 125 126 127 128 129 130 131 132 133 134 135 136 137\n",
      " 138 139 140 141 142 143 144 145 146 147 148 149]\n",
      "----------------------------------\n",
      "Average of Cross Validation Accuraacy: 0.9\n"
     ]
    }
   ],
   "source": [
    "n_iter = 0\n",
    "\n",
    "for train_index, test_index in kfold.split(features):\n",
    "    X_train, X_test = features[train_index], features[test_index]\n",
    "    Y_train, Y_test = label[train_index], label[test_index]\n",
    "\n",
    "    dt_clf.fit(X_train, Y_train)\n",
    "    pred = dt_clf.predict(X_test)\n",
    "    n_iter += 1\n",
    "\n",
    "    accuracy = np.round(accuracy_score(Y_test, pred), 4)\n",
    "    train_size = X_train.shape\n",
    "    test_size = X_test.shape\n",
    "\n",
    "    print('#{}/ Cross Validation Accuracy: {}, Size of train data: {}, Size of Validation data: {}'\n",
    "            .format(n_iter, accuracy, train_size, test_size))\n",
    "    print('#{}/ Indexes of Validation data set: {}'.format(n_iter, test_index))\n",
    "    print('')\n",
    "    cv_accuracy.append(accuracy)\n",
    "    print('----------------------------------')\n",
    "\n",
    "print('Average of Cross Validation Accuraacy:', np.mean(cv_accuracy))\n"
   ]
  }
 ],
 "metadata": {
  "kernelspec": {
   "display_name": "Python 3.9.7 ('base')",
   "language": "python",
   "name": "python3"
  },
  "language_info": {
   "codemirror_mode": {
    "name": "ipython",
    "version": 3
   },
   "file_extension": ".py",
   "mimetype": "text/x-python",
   "name": "python",
   "nbconvert_exporter": "python",
   "pygments_lexer": "ipython3",
   "version": "3.9.7"
  },
  "orig_nbformat": 4,
  "vscode": {
   "interpreter": {
    "hash": "a077222d77dfe082b8f1dd562ad70e458ac2ab76993a0b248ab0476e32e9e8dd"
   }
  }
 },
 "nbformat": 4,
 "nbformat_minor": 2
}
