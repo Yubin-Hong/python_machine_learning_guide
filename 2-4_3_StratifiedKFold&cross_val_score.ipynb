{
 "cells": [
  {
   "cell_type": "code",
   "execution_count": 1,
   "metadata": {},
   "outputs": [],
   "source": [
    "from sklearn.tree import DecisionTreeClassifier\n",
    "from sklearn.metrics import accuracy_score\n",
    "from sklearn.model_selection import KFold\n",
    "from sklearn.datasets import load_iris\n",
    "\n",
    "import numpy as np\n",
    "import pandas as pd"
   ]
  },
  {
   "cell_type": "code",
   "execution_count": 2,
   "metadata": {},
   "outputs": [
    {
     "data": {
      "text/plain": [
       "0    50\n",
       "1    50\n",
       "2    50\n",
       "Name: label, dtype: int64"
      ]
     },
     "execution_count": 2,
     "metadata": {},
     "output_type": "execute_result"
    }
   ],
   "source": [
    "iris = load_iris()\n",
    "iris_df = pd.DataFrame(data = iris.data, columns=iris.feature_names)\n",
    "iris_df['label'] = iris.target\n",
    "iris_df['label'].value_counts()"
   ]
  },
  {
   "cell_type": "code",
   "execution_count": 3,
   "metadata": {},
   "outputs": [
    {
     "name": "stdout",
     "output_type": "stream",
     "text": [
      "Cross Valid Test #1:\n",
      "Train data label values:\n",
      "1    50\n",
      "2    50\n",
      "Name: label, dtype: int64\n",
      "Test data label values:\n",
      "0    50\n",
      "Name: label, dtype: int64\n",
      "Cross Validation Accuracy: 0.0\n",
      "-------------------------\n",
      "Cross Valid Test #2:\n",
      "Train data label values:\n",
      "0    50\n",
      "2    50\n",
      "Name: label, dtype: int64\n",
      "Test data label values:\n",
      "1    50\n",
      "Name: label, dtype: int64\n",
      "Cross Validation Accuracy: 0.0\n",
      "-------------------------\n",
      "Cross Valid Test #3:\n",
      "Train data label values:\n",
      "0    50\n",
      "1    50\n",
      "Name: label, dtype: int64\n",
      "Test data label values:\n",
      "2    50\n",
      "Name: label, dtype: int64\n",
      "Cross Validation Accuracy: 0.0\n",
      "-------------------------\n",
      "Average of Cross Validation Accuraacy: 0.0\n"
     ]
    }
   ],
   "source": [
    "Kfold = KFold(n_splits=3)\n",
    "dt_clf = DecisionTreeClassifier(random_state=156)\n",
    "kfold_cv_accuracy = []\n",
    "\n",
    "n_iter = 0\n",
    "for train_index, test_index in Kfold.split(iris_df):\n",
    "    n_iter += 1\n",
    "\n",
    "    feature_train = iris_df[iris.feature_names].iloc[train_index]\n",
    "    feature_test = iris_df[iris.feature_names].iloc[test_index]\n",
    "    label_train = iris_df['label'].iloc[train_index]\n",
    "    label_test = iris_df['label'].iloc[test_index]\n",
    "\n",
    "    dt_clf.fit(feature_train, label_train)\n",
    "    pred = dt_clf.predict(feature_test)\n",
    "    accuracy = accuracy_score(pred, label_test)\n",
    "    kfold_cv_accuracy.append(accuracy)\n",
    "\n",
    "    print('Cross Valid Test #{}:'.format(n_iter))\n",
    "    print('Train data label values:\\n', label_train.value_counts(), sep='')\n",
    "    print('Test data label values:\\n', label_test.value_counts(), sep='')\n",
    "    print('Cross Validation Accuracy: {}'.format(accuracy))\n",
    "    print('-------------------------')\n",
    "\n",
    "print('Average of Cross Validation Accuraacy:', np.mean(kfold_cv_accuracy))"
   ]
  },
  {
   "cell_type": "code",
   "execution_count": 4,
   "metadata": {},
   "outputs": [
    {
     "name": "stdout",
     "output_type": "stream",
     "text": [
      "Cross Valid Test #1:\n",
      "Train data label values:\n",
      "2    34\n",
      "0    33\n",
      "1    33\n",
      "Name: label, dtype: int64\n",
      "Test data label values:\n",
      "0    17\n",
      "1    17\n",
      "2    16\n",
      "Name: label, dtype: int64\n",
      "Cross Validation Accuracy: 0.98\n",
      "-------------------------\n",
      "Cross Valid Test #2:\n",
      "Train data label values:\n",
      "1    34\n",
      "0    33\n",
      "2    33\n",
      "Name: label, dtype: int64\n",
      "Test data label values:\n",
      "0    17\n",
      "2    17\n",
      "1    16\n",
      "Name: label, dtype: int64\n",
      "Cross Validation Accuracy: 0.94\n",
      "-------------------------\n",
      "Cross Valid Test #3:\n",
      "Train data label values:\n",
      "0    34\n",
      "1    33\n",
      "2    33\n",
      "Name: label, dtype: int64\n",
      "Test data label values:\n",
      "1    17\n",
      "2    17\n",
      "0    16\n",
      "Name: label, dtype: int64\n",
      "Cross Validation Accuracy: 0.98\n",
      "-------------------------\n",
      "Average of Cross Validation Accuraacy: 0.9666666666666667\n"
     ]
    }
   ],
   "source": [
    "from sklearn.model_selection import StratifiedKFold\n",
    "\n",
    "skf = StratifiedKFold(n_splits=3)\n",
    "\n",
    "dt_clf = DecisionTreeClassifier(random_state=156)\n",
    "skf_cv_accuracy = []\n",
    "\n",
    "n_iter = 0\n",
    "for train_index, test_index in skf.split(iris_df, iris_df['label']):\n",
    "    n_iter += 1\n",
    "\n",
    "    feature_train = iris_df[iris.feature_names].iloc[train_index]\n",
    "    feature_test = iris_df[iris.feature_names].iloc[test_index]\n",
    "    label_train = iris_df['label'].iloc[train_index]\n",
    "    label_test = iris_df['label'].iloc[test_index]\n",
    "\n",
    "    dt_clf.fit(feature_train, label_train)\n",
    "    pred = dt_clf.predict(feature_test)\n",
    "    accuracy = accuracy_score(pred, label_test)\n",
    "    skf_cv_accuracy.append(accuracy)\n",
    "\n",
    "    print('Cross Valid Test #{}:'.format(n_iter))\n",
    "    print('Train data label values:\\n', label_train.value_counts(), sep='')\n",
    "    print('Test data label values:\\n', label_test.value_counts(), sep='')\n",
    "    print('Cross Validation Accuracy: {}'.format(accuracy))\n",
    "    print('-------------------------')\n",
    "\n",
    "print('Average of Cross Validation Accuraacy:', np.mean(skf_cv_accuracy))\n"
   ]
  },
  {
   "cell_type": "code",
   "execution_count": 5,
   "metadata": {},
   "outputs": [
    {
     "name": "stdout",
     "output_type": "stream",
     "text": [
      "Cross Valid Test #1:\n",
      "Cross Validation Accuracy: 0.98\n",
      "-------------------------\n",
      "Cross Valid Test #2:\n",
      "Cross Validation Accuracy: 0.94\n",
      "-------------------------\n",
      "Cross Valid Test #3:\n",
      "Cross Validation Accuracy: 0.98\n",
      "-------------------------\n",
      "Average of Cross Validation Accuraacy: 0.9666666666666667\n"
     ]
    }
   ],
   "source": [
    "from sklearn.model_selection import StratifiedKFold\n",
    "\n",
    "iris = load_iris()\n",
    "features = iris.data\n",
    "label = iris.target\n",
    "skfold = StratifiedKFold(n_splits=3)\n",
    "\n",
    "dt_clf = DecisionTreeClassifier(random_state=156)\n",
    "cv_accuracy = []\n",
    "\n",
    "n_iter = 0\n",
    "for train_index, test_index in skf.split(features, label):\n",
    "    n_iter += 1\n",
    "\n",
    "    X_train, X_test = features[train_index], features[test_index]\n",
    "    Y_train, Y_test = label[train_index], label[test_index]\n",
    "\n",
    "    dt_clf.fit(X_train, Y_train)\n",
    "    pred = dt_clf.predict(X_test)\n",
    "    accuracy = np.round(accuracy_score(pred, Y_test), 4)\n",
    "    cv_accuracy.append(accuracy)\n",
    "\n",
    "    print('Cross Valid Test #{}:'.format(n_iter))\n",
    "    print('Cross Validation Accuracy: {}'.format(accuracy))\n",
    "    print('-------------------------')\n",
    "\n",
    "print('Average of Cross Validation Accuraacy:', np.mean(cv_accuracy))\n"
   ]
  },
  {
   "cell_type": "markdown",
   "metadata": {},
   "source": [
    ">cross_val_score()"
   ]
  },
  {
   "cell_type": "code",
   "execution_count": 6,
   "metadata": {},
   "outputs": [
    {
     "name": "stdout",
     "output_type": "stream",
     "text": [
      "Cross Validation Accuracy: [0.98 0.94 0.98]\n",
      "Mean Accuracy: 0.9667\n"
     ]
    }
   ],
   "source": [
    "from sklearn.model_selection import cross_val_score, cross_validate\n",
    "\n",
    "dt_clf = DecisionTreeClassifier(random_state=156)\n",
    "\n",
    "scores = cross_val_score(dt_clf, features, y=label, scoring='accuracy', cv=3)\n",
    "print('Cross Validation Accuracy:', np.round(scores, 4))\n",
    "print('Mean Accuracy:', np.round(np.mean(scores), 4))\n"
   ]
  }
 ],
 "metadata": {
  "kernelspec": {
   "display_name": "Python 3.9.7 ('base')",
   "language": "python",
   "name": "python3"
  },
  "language_info": {
   "codemirror_mode": {
    "name": "ipython",
    "version": 3
   },
   "file_extension": ".py",
   "mimetype": "text/x-python",
   "name": "python",
   "nbconvert_exporter": "python",
   "pygments_lexer": "ipython3",
   "version": "3.9.7"
  },
  "orig_nbformat": 4,
  "vscode": {
   "interpreter": {
    "hash": "a077222d77dfe082b8f1dd562ad70e458ac2ab76993a0b248ab0476e32e9e8dd"
   }
  }
 },
 "nbformat": 4,
 "nbformat_minor": 2
}
