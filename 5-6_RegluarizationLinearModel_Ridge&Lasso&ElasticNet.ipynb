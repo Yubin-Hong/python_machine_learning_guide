{
 "cells": [
  {
   "cell_type": "markdown",
   "metadata": {},
   "source": [
    "## Regularization Linear Model - Ridge, Lasso, Elasticnet"
   ]
  },
  {
   "cell_type": "markdown",
   "metadata": {},
   "source": [
    "### Introduction to Regularization Linaer Model"
   ]
  },
  {
   "cell_type": "markdown",
   "metadata": {},
   "source": [
    "Without regulariztion, linear regression only focus on minimizing RSS(Difference between prediction and actual data)  \n",
    "This cause overfitting to training data and make coefficients explosion easily.(Poor prediction with test data)  \n",
    "We need balance between minimizing RSS and regularization of coefficients.  \n",
    "-  Objective Cost Function = Min(Rss + alpha*||W||^2), alpha: Tuning Parameter to control size of coefficients.  \n",
    "If alpha is small, there will less differnce compare to non-regularization model.  \n",
    "If alpha is big, W should be small to achieve minimize of cost function.  \n",
    "1. L2 Regularization: use alpha*||W||^2 for coefficient regularization  \n",
    "2. L1 Regularization: use alpha*||W|| for coefficient regularization"
   ]
  },
  {
   "cell_type": "markdown",
   "metadata": {},
   "source": [
    "### Ridge Regression"
   ]
  },
  {
   "cell_type": "markdown",
   "metadata": {},
   "source": [
    "Parameter: alpha  \n",
    "- alpha[Default=1]: L2 Regularization Coefficeint"
   ]
  },
  {
   "cell_type": "code",
   "execution_count": 12,
   "metadata": {},
   "outputs": [
    {
     "name": "stderr",
     "output_type": "stream",
     "text": [
      "c:\\Users\\user\\anaconda3\\lib\\site-packages\\sklearn\\utils\\deprecation.py:87: FutureWarning: Function load_boston is deprecated; `load_boston` is deprecated in 1.0 and will be removed in 1.2.\n",
      "\n",
      "    The Boston housing prices dataset has an ethical problem. You can refer to\n",
      "    the documentation of this function for further details.\n",
      "\n",
      "    The scikit-learn maintainers therefore strongly discourage the use of this\n",
      "    dataset unless the purpose of the code is to study and educate about\n",
      "    ethical issues in data science and machine learning.\n",
      "\n",
      "    In this special case, you can fetch the dataset from the original\n",
      "    source::\n",
      "\n",
      "        import pandas as pd\n",
      "        import numpy as np\n",
      "\n",
      "\n",
      "        data_url = \"http://lib.stat.cmu.edu/datasets/boston\"\n",
      "        raw_df = pd.read_csv(data_url, sep=\"\\s+\", skiprows=22, header=None)\n",
      "        data = np.hstack([raw_df.values[::2, :], raw_df.values[1::2, :2]])\n",
      "        target = raw_df.values[1::2, 2]\n",
      "\n",
      "    Alternative datasets include the California housing dataset (i.e.\n",
      "    :func:`~sklearn.datasets.fetch_california_housing`) and the Ames housing\n",
      "    dataset. You can load the datasets as follows::\n",
      "\n",
      "        from sklearn.datasets import fetch_california_housing\n",
      "        housing = fetch_california_housing()\n",
      "\n",
      "    for the California housing dataset and::\n",
      "\n",
      "        from sklearn.datasets import fetch_openml\n",
      "        housing = fetch_openml(name=\"house_prices\", as_frame=True)\n",
      "\n",
      "    for the Ames housing dataset.\n",
      "    \n",
      "  warnings.warn(msg, category=FutureWarning)\n"
     ]
    }
   ],
   "source": [
    "from sklearn.datasets import load_boston\n",
    "from sklearn.metrics import mean_absolute_error, mean_squared_error, r2_score\n",
    "from sklearn.model_selection import train_test_split\n",
    "from sklearn.linear_model import LinearRegression\n",
    "\n",
    "import numpy as np\n",
    "import pandas as pd\n",
    "import matplotlib.pyplot as plt\n",
    "import seaborn as sns\n",
    "%matplotlib inline\n",
    "\n",
    "boston = load_boston()\n",
    "X_features = pd.DataFrame(boston.data, columns=boston.feature_names)\n",
    "y_target= pd.Series(boston.target)\n",
    "\n",
    "X_train, X_test, y_train, y_test = train_test_split(X_features, y_target, test_size=0.3)"
   ]
  },
  {
   "cell_type": "code",
   "execution_count": 13,
   "metadata": {},
   "outputs": [
    {
     "name": "stdout",
     "output_type": "stream",
     "text": [
      "MSE Scores for each 5 folds:  [11.4218 24.2945 28.1436 74.5992 28.5171]\n",
      "Mean of MSE Scores: 33.3952 \n",
      "RMSE Scores for each 5 folds:  [3.3796 4.9289 5.305  8.6371 5.3401]\n",
      "Mean of RMSE Scores: 5.5182 \n"
     ]
    }
   ],
   "source": [
    "from sklearn.linear_model import Ridge\n",
    "from sklearn.model_selection import cross_val_score\n",
    "\n",
    "ridge = Ridge(alpha = 10)\n",
    "neg_mse_scores = cross_val_score(ridge, X_features, y_target, scoring=\"neg_mean_squared_error\", cv = 5)\n",
    "mse_scores = -1 * neg_mse_scores\n",
    "avg_mse = np.mean(mse_scores)\n",
    "\n",
    "rmse_scores  = np.sqrt(mse_scores)\n",
    "avg_rmse = np.mean(rmse_scores)\n",
    "\n",
    "print('MSE Scores for each 5 folds: ', np.round(mse_scores, 4))\n",
    "print('Mean of MSE Scores: {0:.4f} '.format(avg_mse))\n",
    "\n",
    "print('RMSE Scores for each 5 folds: ', np.round(rmse_scores, 4))\n",
    "print('Mean of RMSE Scores: {0:.4f} '.format(avg_rmse))"
   ]
  },
  {
   "cell_type": "code",
   "execution_count": 14,
   "metadata": {},
   "outputs": [
    {
     "name": "stdout",
     "output_type": "stream",
     "text": [
      "Mean of RMSE Scores with alpha=0: 5.8287\n",
      "Mean of RMSE Scores with alpha=0.1: 5.7885\n",
      "Mean of RMSE Scores with alpha=1: 5.6526\n",
      "Mean of RMSE Scores with alpha=10: 5.5182\n",
      "Mean of RMSE Scores with alpha=100: 5.3296\n"
     ]
    }
   ],
   "source": [
    "alphas = [0 , 0.1 , 1 , 10 , 100]\n",
    "\n",
    "for alpha in alphas:\n",
    "    ridge = Ridge(alpha = alpha)\n",
    "    \n",
    "    neg_mse_scores = cross_val_score(ridge, X_features, y_target, scoring=\"neg_mean_squared_error\", cv = 5)\n",
    "    mse_scores = -1 * neg_mse_scores\n",
    "    rmse_scores  = np.sqrt(mse_scores)\n",
    "    avg_rmse = np.mean(rmse_scores)\n",
    "\n",
    "    print('Mean of RMSE Scores with alpha={}: {:.4f}'.format(alpha, avg_rmse))"
   ]
  },
  {
   "cell_type": "code",
   "execution_count": 15,
   "metadata": {},
   "outputs": [
    {
     "data": {
      "image/png": "[encoded data removed]",
      "text/plain": [
       "<Figure size 1296x432 with 5 Axes>"
      ]
     },
     "metadata": {
      "needs_background": "light"
     },
     "output_type": "display_data"
    }
   ],
   "source": [
    "# Make 5col subplots \n",
    "fig , axs = plt.subplots(figsize=(18,6) , nrows=1 , ncols=5)\n",
    " \n",
    "coeff_df = pd.DataFrame()\n",
    "\n",
    "#pos is used for designeate position on subplot\n",
    "for pos, alpha in enumerate(alphas):    \n",
    "    ridge = Ridge(alpha = alpha)\n",
    "    ridge.fit(X_features , y_target)\n",
    "    coeff = pd.Series(data=ridge.coef_, index=X_features.columns)   # make coef pd.Series for each features. \n",
    "    colname='alpha:'+str(alpha) # make col_name\n",
    "    coeff_df[colname] = coeff   # add series to Df\n",
    "    \n",
    "    coeff = coeff.sort_values(ascending=False)  # Sort values in series by decending order\n",
    "    axs[pos].set_title(colname)\n",
    "    axs[pos].set_xlim(-3,6)\n",
    "    sns.barplot(x=coeff.values , y=coeff.index, ax=axs[pos])\n",
    "\n",
    "plt.show()"
   ]
  },
  {
   "cell_type": "markdown",
   "metadata": {},
   "source": [
    "### Lasso Regression"
   ]
  },
  {
   "cell_type": "markdown",
   "metadata": {},
   "source": [
    "Lasso Regression: Linear Regression that Applied L1 Regularization  \n",
    "Difference compare to Ridge Regression: L2 regularization reduces 'size' of coefficients,  \n",
    "but L1 regularization dramatically reduce(to 0) unusual coefficients  \n",
    "Hence, Lasso Regression can use as feature selection  \n",
    "Parameter: alpha  \n",
    "- alpha[Default=1]: L1 Regulaization Coefficient"
   ]
  },
  {
   "cell_type": "code",
   "execution_count": 41,
   "metadata": {},
   "outputs": [],
   "source": [
    "from sklearn.linear_model import Lasso, ElasticNet\n",
    "\n",
    "# Print avg_RMSE of regression model by alpha values\n",
    "# and transform coefficients for each features to DF by alpha values\n",
    "def get_linear_reg_eval_plots(model_name, alphas=None, X_features=None, y_target=None, verbose=True):\n",
    "    coeff_df = pd.DataFrame()\n",
    "    fig , axs = plt.subplots(figsize=(18,6) , nrows=1 , ncols=5)\n",
    "\n",
    "    if verbose : print('####### ', model_name , '#######')\n",
    "    for pos, alpha in enumerate(alphas):\n",
    "        if model_name =='Ridge': \n",
    "            model = Ridge(alpha=alpha)\n",
    "        elif model_name =='Lasso': \n",
    "            model = Lasso(alpha=alpha)\n",
    "        elif model_name =='ElasticNet':\n",
    "            model = ElasticNet(alpha=alpha, l1_ratio=0.7)\n",
    "        neg_mse_scores = cross_val_score(model, X_features, y_target, scoring=\"neg_mean_squared_error\", cv = 5)\n",
    "        avg_rmse = np.mean(np.sqrt(-1 * neg_mse_scores))\n",
    "        print('Mean of RMSE Scores with alpha={}: {:.4f}'.format(alpha, avg_rmse))\n",
    "        \n",
    "        # Coefficients DF\n",
    "        model.fit(X_features , y_target)\n",
    "        coeff = pd.Series(data=model.coef_ , index=X_features.columns)\n",
    "        colname='alpha:'+str(alpha)\n",
    "        coeff_df[colname] = coeff\n",
    "\n",
    "        # Print Subplots\n",
    "        coeff = coeff.sort_values(ascending=False)  # Sort values in series by decending order\n",
    "        axs[pos].set_title(colname)\n",
    "        axs[pos].set_xlim(-3,6)\n",
    "        sns.barplot(x=coeff.values , y=coeff.index, ax=axs[pos])\n",
    "  \n",
    "    print(coeff_df)     \n",
    "    plt.show()\n",
    "    return coeff_df"
   ]
  },
  {
   "cell_type": "code",
   "execution_count": 42,
   "metadata": {},
   "outputs": [
    {
     "name": "stdout",
     "output_type": "stream",
     "text": [
      "#######  Lasso #######\n",
      "Mean of RMSE Scores with alpha=0.07: 5.6123\n",
      "Mean of RMSE Scores with alpha=0.1: 5.6151\n",
      "Mean of RMSE Scores with alpha=0.5: 5.6691\n",
      "Mean of RMSE Scores with alpha=1: 5.7760\n",
      "Mean of RMSE Scores with alpha=3: 6.1888\n",
      "         alpha:0.07  alpha:0.1  alpha:0.5   alpha:1   alpha:3\n",
      "CRIM      -0.098193  -0.097894  -0.083289 -0.063437 -0.000000\n",
      "ZN         0.049059   0.049211   0.049544  0.049165  0.037231\n",
      "INDUS     -0.042120  -0.036619  -0.005253 -0.000000 -0.000000\n",
      "CHAS       1.434343   0.955190   0.000000  0.000000  0.000000\n",
      "NOX       -0.000000  -0.000000  -0.000000 -0.000000  0.000000\n",
      "RM         3.789725   3.703202   2.498212  0.949811  0.000000\n",
      "AGE       -0.011706  -0.010037   0.003604  0.020910  0.042495\n",
      "DIS       -1.176583  -1.160538  -0.936605 -0.668790 -0.000000\n",
      "RAD        0.270936   0.274707   0.277451  0.264206  0.061864\n",
      "TAX       -0.014290  -0.014570  -0.015442 -0.015212 -0.008602\n",
      "PTRATIO   -0.765107  -0.770654  -0.758752 -0.722966 -0.265072\n",
      "B          0.010248   0.010249   0.009469  0.008247  0.006510\n",
      "LSTAT     -0.560431  -0.568769  -0.656290 -0.761115 -0.807679\n"
     ]
    },
    {
     "data": {
      "image/png": "[encoded data removed]",
      "text/plain": [
       "<Figure size 1296x432 with 5 Axes>"
      ]
     },
     "metadata": {
      "needs_background": "light"
     },
     "output_type": "display_data"
    }
   ],
   "source": [
    "lasso_alphas = [ 0.07, 0.1, 0.5, 1, 3]\n",
    "coeff_lasso_df =get_linear_reg_eval_plots('Lasso', alphas=lasso_alphas, X_features=X_features, y_target=y_target)"
   ]
  },
  {
   "cell_type": "markdown",
   "metadata": {},
   "source": [
    "### ElasticNet Regression"
   ]
  },
  {
   "cell_type": "markdown",
   "metadata": {},
   "source": [
    "ElasticNet: Regression that combined L1&L2 Regularization  \n",
    "Cost Func. = min(RSS + alpha2*||W||^2 + alpha1*||W||)  \n",
    "Lasso Regression tends to select single important feature among features that have correlation and delete(make coefficient=0) other features.  \n",
    "To ease Lasso's extreme chac., ElasticNet added L2 Regularization to Lasso.  \n",
    "Parameters: alpha, l1_ratio  \n",
    "- alpha: sum of alpha1(L1 alpha), alpha2(L2 alpha)  \n",
    "- l1_ratio: alpha1/(alpha1+alpha2)  "
   ]
  },
  {
   "cell_type": "code",
   "execution_count": 43,
   "metadata": {},
   "outputs": [
    {
     "name": "stdout",
     "output_type": "stream",
     "text": [
      "#######  ElasticNet #######\n",
      "Mean of RMSE Scores with alpha=0.07: 5.5417\n",
      "Mean of RMSE Scores with alpha=0.1: 5.5259\n",
      "Mean of RMSE Scores with alpha=0.5: 5.4667\n",
      "Mean of RMSE Scores with alpha=1: 5.5969\n",
      "Mean of RMSE Scores with alpha=3: 6.0681\n",
      "         alpha:0.07  alpha:0.1  alpha:0.5   alpha:1   alpha:3\n",
      "CRIM      -0.099468  -0.099213  -0.089070 -0.073577 -0.019058\n",
      "ZN         0.050107   0.050617   0.052878  0.052136  0.038268\n",
      "INDUS     -0.044855  -0.042719  -0.023252 -0.000000 -0.000000\n",
      "CHAS       1.330724   0.979706   0.000000  0.000000  0.000000\n",
      "NOX       -0.175072  -0.000000  -0.000000 -0.000000 -0.000000\n",
      "RM         3.574162   3.414154   1.918419  0.938789  0.000000\n",
      "AGE       -0.010116  -0.008276   0.007760  0.020348  0.043446\n",
      "DIS       -1.189438  -1.173647  -0.975902 -0.725174 -0.031208\n",
      "RAD        0.278880   0.283443   0.300761  0.289299  0.146846\n",
      "TAX       -0.014522  -0.014814  -0.016046 -0.016218 -0.011417\n",
      "PTRATIO   -0.779498  -0.784725  -0.790969 -0.738672 -0.423065\n",
      "B          0.010122   0.010067   0.009114  0.008320  0.007020\n",
      "LSTAT     -0.574822  -0.587702  -0.693861 -0.760457 -0.800368\n"
     ]
    },
    {
     "data": {
      "image/png": "[encoded data removed]",
      "text/plain": [
       "<Figure size 1296x432 with 5 Axes>"
      ]
     },
     "metadata": {
      "needs_background": "light"
     },
     "output_type": "display_data"
    }
   ],
   "source": [
    "elastic_alphas = [0.07, 0.1, 0.5, 1, 3]\n",
    "coeff_elastic_df = get_linear_reg_eval_plots('ElasticNet', alphas=elastic_alphas, X_features=X_features, y_target=y_target)"
   ]
  },
  {
   "cell_type": "markdown",
   "metadata": {},
   "source": [
    "### Data Transform for Linear Regression Model"
   ]
  },
  {
   "cell_type": "markdown",
   "metadata": {},
   "source": [
    "Linear Regression highly prefer normalized feature values and target values.  \n",
    "Especially if target values' dist. is not normal dist. but skewed shaped dist., it will cause bad effect to prediction performance.  \n",
    "So generally, before applying to model, we use scaling/normalization to data.  \n",
    "However, scaling/normalization does not assure improvement of prediction performance.  "
   ]
  },
  {
   "cell_type": "markdown",
   "metadata": {},
   "source": [
    "3 type of data transformation in Sklearn module  \n",
    "1. Use StandardScaler class or MinMaxScaler class  \n",
    "2. After scaling/normalization, apply polynomial properties again.(Use when method 1 does not improve prediction)  \n",
    "3. Log Transformation: Apply log function."
   ]
  },
  {
   "cell_type": "code",
   "execution_count": 65,
   "metadata": {},
   "outputs": [],
   "source": [
    "from sklearn.preprocessing import StandardScaler, MinMaxScaler, PolynomialFeatures\n",
    " \n",
    "def get_scaled_data(method='None', p_degree=None, input_data=None):\n",
    "    if method == 'Standard':\n",
    "        scaled_data = StandardScaler().fit_transform(input_data)\n",
    "    elif method == 'MinMax':\n",
    "        scaled_data = MinMaxScaler().fit_transform(input_data)\n",
    "    elif method == 'Log':\n",
    "        # apply np.log can cause underflow, so we use 1+log() which is np.log1p\n",
    "        scaled_data = np.log1p(input_data) \n",
    "    else:\n",
    "        scaled_data = input_data\n",
    "\n",
    "    if p_degree != None:\n",
    "        # Caution! p_degree should less than 3\n",
    "        scaled_data = PolynomialFeatures(degree=p_degree, include_bias=False)\\\n",
    "                                        .fit_transform(scaled_data)\n",
    "    return scaled_data"
   ]
  },
  {
   "cell_type": "code",
   "execution_count": 66,
   "metadata": {},
   "outputs": [],
   "source": [
    "def get_linear_reg_eval(model_name, alphas=None, X_features=None, y_target=None, verbose=True):\n",
    "    rmse_list = []\n",
    "    if verbose : print('####### ', model_name , '#######')\n",
    "    for pos, alpha in enumerate(alphas):\n",
    "        if model_name =='Ridge': \n",
    "            model = Ridge(alpha=alpha)\n",
    "        elif model_name =='Lasso': \n",
    "            model = Lasso(alpha=alpha)\n",
    "        elif model_name =='ElasticNet':\n",
    "            model = ElasticNet(alpha=alpha, l1_ratio=0.7)\n",
    "        neg_mse_scores = cross_val_score(model, X_features, y_target, scoring=\"neg_mean_squared_error\", cv = 5)\n",
    "        avg_rmse = np.mean(np.sqrt(-1 * neg_mse_scores))\n",
    "        rmse_list.append(avg_rmse)\n",
    "    rmse_series = pd.Series(rmse_list)\n",
    "    return rmse_series"
   ]
  },
  {
   "cell_type": "code",
   "execution_count": 71,
   "metadata": {},
   "outputs": [
    {
     "data": {
      "text/html": [
       "<div>\n",
       "<style scoped>\n",
       "    .dataframe tbody tr th:only-of-type {\n",
       "        vertical-align: middle;\n",
       "    }\n",
       "\n",
       "    .dataframe tbody tr th {\n",
       "        vertical-align: top;\n",
       "    }\n",
       "\n",
       "    .dataframe thead th {\n",
       "        text-align: right;\n",
       "    }\n",
       "</style>\n",
       "<table border=\"1\" class=\"dataframe\">\n",
       "  <thead>\n",
       "    <tr style=\"text-align: right;\">\n",
       "      <th></th>\n",
       "      <th>alphas</th>\n",
       "      <th>(None, None)</th>\n",
       "      <th>(Standard, None)</th>\n",
       "      <th>(Standard, 2)</th>\n",
       "      <th>(MinMax, None)</th>\n",
       "      <th>(MinMax, 2)</th>\n",
       "      <th>(Log, None)</th>\n",
       "    </tr>\n",
       "  </thead>\n",
       "  <tbody>\n",
       "    <tr>\n",
       "      <th>0</th>\n",
       "      <td>0.1</td>\n",
       "      <td>5.788487</td>\n",
       "      <td>5.825993</td>\n",
       "      <td>8.827236</td>\n",
       "      <td>5.763570</td>\n",
       "      <td>5.297560</td>\n",
       "      <td>4.770430</td>\n",
       "    </tr>\n",
       "    <tr>\n",
       "      <th>1</th>\n",
       "      <td>0.5</td>\n",
       "      <td>5.700420</td>\n",
       "      <td>5.815530</td>\n",
       "      <td>7.507290</td>\n",
       "      <td>5.584503</td>\n",
       "      <td>4.366122</td>\n",
       "      <td>4.697036</td>\n",
       "    </tr>\n",
       "    <tr>\n",
       "      <th>2</th>\n",
       "      <td>1.0</td>\n",
       "      <td>5.652571</td>\n",
       "      <td>5.802890</td>\n",
       "      <td>6.871288</td>\n",
       "      <td>5.465045</td>\n",
       "      <td>4.322660</td>\n",
       "      <td>4.676227</td>\n",
       "    </tr>\n",
       "    <tr>\n",
       "      <th>3</th>\n",
       "      <td>5.0</td>\n",
       "      <td>5.561517</td>\n",
       "      <td>5.716670</td>\n",
       "      <td>5.888662</td>\n",
       "      <td>5.456890</td>\n",
       "      <td>4.907496</td>\n",
       "      <td>4.729088</td>\n",
       "    </tr>\n",
       "    <tr>\n",
       "      <th>4</th>\n",
       "      <td>10.0</td>\n",
       "      <td>5.518166</td>\n",
       "      <td>5.636831</td>\n",
       "      <td>5.484870</td>\n",
       "      <td>5.754164</td>\n",
       "      <td>5.185204</td>\n",
       "      <td>4.836440</td>\n",
       "    </tr>\n",
       "  </tbody>\n",
       "</table>\n",
       "</div>"
      ],
      "text/plain": [
       "   alphas  (None, None)  (Standard, None)  (Standard, 2)  (MinMax, None)  \\\n",
       "0     0.1      5.788487          5.825993       8.827236        5.763570   \n",
       "1     0.5      5.700420          5.815530       7.507290        5.584503   \n",
       "2     1.0      5.652571          5.802890       6.871288        5.465045   \n",
       "3     5.0      5.561517          5.716670       5.888662        5.456890   \n",
       "4    10.0      5.518166          5.636831       5.484870        5.754164   \n",
       "\n",
       "   (MinMax, 2)  (Log, None)  \n",
       "0     5.297560     4.770430  \n",
       "1     4.366122     4.697036  \n",
       "2     4.322660     4.676227  \n",
       "3     4.907496     4.729088  \n",
       "4     5.185204     4.836440  "
      ]
     },
     "execution_count": 71,
     "metadata": {},
     "output_type": "execute_result"
    }
   ],
   "source": [
    "alphas = [0.1, 0.5, 1, 5, 10]\n",
    "scale_methods=[(None, None), ('Standard', None), ('Standard', 2), \n",
    "               ('MinMax', None), ('MinMax', 2), ('Log', None)]\n",
    "rmse_df = pd.DataFrame()\n",
    "for scale_method in scale_methods:\n",
    "    X_features_scaled = get_scaled_data(method=scale_method[0], p_degree=scale_method[1], \n",
    "                                        input_data=X_features)\n",
    "    rmse_df[scale_method] = get_linear_reg_eval('Ridge', alphas=alphas, X_features=X_features_scaled, \n",
    "                                              y_target=y_target, verbose=False)\n",
    "rmse_df.insert(loc=0, column='alphas', value=alphas) \n",
    "rmse_df"
   ]
  }
 ],
 "metadata": {
  "kernelspec": {
   "display_name": "Python 3.9.12 ('base')",
   "language": "python",
   "name": "python3"
  },
  "language_info": {
   "codemirror_mode": {
    "name": "ipython",
    "version": 3
   },
   "file_extension": ".py",
   "mimetype": "text/x-python",
   "name": "python",
   "nbconvert_exporter": "python",
   "pygments_lexer": "ipython3",
   "version": "3.9.12"
  },
  "orig_nbformat": 4,
  "vscode": {
   "interpreter": {
    "hash": "a077222d77dfe082b8f1dd562ad70e458ac2ab76993a0b248ab0476e32e9e8dd"
   }
  }
 },
 "nbformat": 4,
 "nbformat_minor": 2
}
