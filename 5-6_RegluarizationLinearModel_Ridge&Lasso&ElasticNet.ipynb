{
 "cells": [
  {
   "cell_type": "markdown",
   "metadata": {},
   "source": [
    "## Regularization Linear Model - Ridge, Lasso, Elasticnet"
   ]
  },
  {
   "cell_type": "markdown",
   "metadata": {},
   "source": [
    "### Introduction to Regularization Linaer Model"
   ]
  },
  {
   "cell_type": "markdown",
   "metadata": {},
   "source": [
    "Without regulariztion, linear regression only focus on minimizing RSS(Difference between prediction and actual data)  \n",
    "This cause overfitting to training data and make coefficients explosion easily.(Poor prediction with test data)  \n",
    "We need balance between minimizing RSS and regularization of coefficients.  \n",
    "-  Objective Cost Function = Min(Rss + alpha*||W||^2), alpha: Tuning Parameter to control size of coefficients.  \n",
    "If alpha is small, there will less differnce compare to non-regularization model.  \n",
    "If alpha is big, W should be small to achieve minimize of cost function.  \n",
    "1. L2 Regularization: use alpha*||W||^2 for coefficient regularization  \n",
    "2. L1 Regularization: use alpha*||W|| for coefficient regularization"
   ]
  },
  {
   "cell_type": "markdown",
   "metadata": {},
   "source": [
    "### Ridge Regression"
   ]
  },
  {
   "cell_type": "markdown",
   "metadata": {},
   "source": [
    "Parameter: alpha  \n",
    "- alpha[Default=1]: L2 Regularization Coefficeint"
   ]
  },
  {
   "cell_type": "code",
   "execution_count": 26,
   "metadata": {},
   "outputs": [
    {
     "name": "stderr",
     "output_type": "stream",
     "text": [
      "c:\\Users\\user\\anaconda3\\lib\\site-packages\\sklearn\\utils\\deprecation.py:87: FutureWarning: Function load_boston is deprecated; `load_boston` is deprecated in 1.0 and will be removed in 1.2.\n",
      "\n",
      "    The Boston housing prices dataset has an ethical problem. You can refer to\n",
      "    the documentation of this function for further details.\n",
      "\n",
      "    The scikit-learn maintainers therefore strongly discourage the use of this\n",
      "    dataset unless the purpose of the code is to study and educate about\n",
      "    ethical issues in data science and machine learning.\n",
      "\n",
      "    In this special case, you can fetch the dataset from the original\n",
      "    source::\n",
      "\n",
      "        import pandas as pd\n",
      "        import numpy as np\n",
      "\n",
      "\n",
      "        data_url = \"http://lib.stat.cmu.edu/datasets/boston\"\n",
      "        raw_df = pd.read_csv(data_url, sep=\"\\s+\", skiprows=22, header=None)\n",
      "        data = np.hstack([raw_df.values[::2, :], raw_df.values[1::2, :2]])\n",
      "        target = raw_df.values[1::2, 2]\n",
      "\n",
      "    Alternative datasets include the California housing dataset (i.e.\n",
      "    :func:`~sklearn.datasets.fetch_california_housing`) and the Ames housing\n",
      "    dataset. You can load the datasets as follows::\n",
      "\n",
      "        from sklearn.datasets import fetch_california_housing\n",
      "        housing = fetch_california_housing()\n",
      "\n",
      "    for the California housing dataset and::\n",
      "\n",
      "        from sklearn.datasets import fetch_openml\n",
      "        housing = fetch_openml(name=\"house_prices\", as_frame=True)\n",
      "\n",
      "    for the Ames housing dataset.\n",
      "    \n",
      "  warnings.warn(msg, category=FutureWarning)\n"
     ]
    }
   ],
   "source": [
    "from sklearn.datasets import load_boston\n",
    "from sklearn.metrics import mean_absolute_error, mean_squared_error, r2_score\n",
    "from sklearn.model_selection import train_test_split\n",
    "from sklearn.linear_model import LinearRegression\n",
    "\n",
    "import numpy as np\n",
    "import pandas as pd\n",
    "import matplotlib.pyplot as plt\n",
    "import seaborn as sns\n",
    "%matplotlib inline\n",
    "\n",
    "boston = load_boston()\n",
    "X_features = pd.DataFrame(boston.data, columns=boston.feature_names)\n",
    "y_target= pd.Series(boston.target)\n",
    "\n",
    "X_train, X_test, y_train, y_test = train_test_split(X_features, y_target, test_size=0.3)"
   ]
  },
  {
   "cell_type": "code",
   "execution_count": 27,
   "metadata": {},
   "outputs": [
    {
     "name": "stdout",
     "output_type": "stream",
     "text": [
      "MSE Scores for each 5 folds:  [11.4218 24.2945 28.1436 74.5992 28.5171]\n",
      "Mean of MSE Scores: 33.3952 \n",
      "RMSE Scores for each 5 folds:  [3.3796 4.9289 5.305  8.6371 5.3401]\n",
      "Mean of RMSE Scores: 5.5182 \n"
     ]
    }
   ],
   "source": [
    "from sklearn.linear_model import Ridge\n",
    "from sklearn.model_selection import cross_val_score\n",
    "\n",
    "ridge = Ridge(alpha = 10)\n",
    "neg_mse_scores = cross_val_score(ridge, X_features, y_target, scoring=\"neg_mean_squared_error\", cv = 5)\n",
    "mse_scores = -1 * neg_mse_scores\n",
    "avg_mse = np.mean(mse_scores)\n",
    "\n",
    "rmse_scores  = np.sqrt(mse_scores)\n",
    "avg_rmse = np.mean(rmse_scores)\n",
    "\n",
    "print('MSE Scores for each 5 folds: ', np.round(mse_scores, 4))\n",
    "print('Mean of MSE Scores: {0:.4f} '.format(avg_mse))\n",
    "\n",
    "print('RMSE Scores for each 5 folds: ', np.round(rmse_scores, 4))\n",
    "print('Mean of RMSE Scores: {0:.4f} '.format(avg_rmse))"
   ]
  },
  {
   "cell_type": "code",
   "execution_count": 28,
   "metadata": {},
   "outputs": [
    {
     "name": "stdout",
     "output_type": "stream",
     "text": [
      "Mean of RMSE Scores with alpha=0: 5.8287\n",
      "Mean of RMSE Scores with alpha=0.1: 5.7885\n",
      "Mean of RMSE Scores with alpha=1: 5.6526\n",
      "Mean of RMSE Scores with alpha=10: 5.5182\n",
      "Mean of RMSE Scores with alpha=100: 5.3296\n"
     ]
    }
   ],
   "source": [
    "alphas = [0 , 0.1 , 1 , 10 , 100]\n",
    "\n",
    "for alpha in alphas:\n",
    "    ridge = Ridge(alpha = alpha)\n",
    "    \n",
    "    neg_mse_scores = cross_val_score(ridge, X_features, y_target, scoring=\"neg_mean_squared_error\", cv = 5)\n",
    "    mse_scores = -1 * neg_mse_scores\n",
    "    rmse_scores  = np.sqrt(mse_scores)\n",
    "    avg_rmse = np.mean(rmse_scores)\n",
    "\n",
    "    print('Mean of RMSE Scores with alpha={}: {:.4f}'.format(alpha, avg_rmse))"
   ]
  },
  {
   "cell_type": "code",
   "execution_count": 31,
   "metadata": {},
   "outputs": [
    {
     "data": {
      "image/png": "[encoded data removed]",
      "text/plain": [
       "<Figure size 1296x432 with 5 Axes>"
      ]
     },
     "metadata": {
      "needs_background": "light"
     },
     "output_type": "display_data"
    }
   ],
   "source": [
    "# Make 5col subplots \n",
    "fig , axs = plt.subplots(figsize=(18,6) , nrows=1 , ncols=5)\n",
    " \n",
    "coeff_df = pd.DataFrame()\n",
    "\n",
    "#pos is used for designeate position on subplot\n",
    "for pos, alpha in enumerate(alphas):    \n",
    "    ridge = Ridge(alpha = alpha)\n",
    "    ridge.fit(X_features , y_target)\n",
    "    coeff = pd.Series(data=ridge.coef_, index=X_features.columns)   # make coef pd.Series for each features. \n",
    "    colname='alpha:'+str(alpha) # make col_name\n",
    "    coeff_df[colname] = coeff   # add series to Df\n",
    "    \n",
    "    coeff = coeff.sort_values(ascending=False)  # Sort values in series by decending order\n",
    "    axs[pos].set_title(colname)\n",
    "    axs[pos].set_xlim(-3,6)\n",
    "    sns.barplot(x=coeff.values , y=coeff.index, ax=axs[pos])\n",
    "\n",
    "plt.show()"
   ]
  },
  {
   "cell_type": "markdown",
   "metadata": {},
   "source": [
    "### Lasso Regression"
   ]
  },
  {
   "cell_type": "markdown",
   "metadata": {},
   "source": [
    "Lasso Regression: Linear Regression that Applied L1 Regularization  \n",
    "Difference compare to Ridge Regression: L2 regularization reduces 'size' of coefficients,  \n",
    "but L1 regularization dramatically reduce(to 0) unusual coefficients  \n",
    "Hence, Lasso Regression can use as feature selection  \n",
    "Parameter: alpha  \n",
    "- alpha[Default=1]: L1 Regulaization Coefficient"
   ]
  },
  {
   "cell_type": "code",
   "execution_count": 33,
   "metadata": {},
   "outputs": [],
   "source": [
    "from sklearn.linear_model import Lasso, ElasticNet\n",
    "\n",
    "# Print avg_RMSE of regression model by alpha values\n",
    "# and transform coefficients for each features to DF by alpha values\n",
    "def get_linear_reg_eval(model_name, alphas=None, X_features=None, y_target=None, verbose=True):\n",
    "    coeff_df = pd.DataFrame()\n",
    "    if verbose : print('####### ', model_name , '#######')\n",
    "    for alpha in alphas:\n",
    "        if model_name =='Ridge': \n",
    "            model = Ridge(alpha=alpha)\n",
    "        elif model_name =='Lasso': \n",
    "            model = Lasso(alpha=alpha)\n",
    "        elif model_name =='ElasticNet':\n",
    "            model = ElasticNet(alpha=alpha, l1_ratio=0.7)\n",
    "        neg_mse_scores = cross_val_score(model, X_features, y_target, scoring=\"neg_mean_squared_error\", cv = 5)\n",
    "        avg_rmse = np.mean(np.sqrt(-1 * neg_mse_scores))\n",
    "        print('Mean of RMSE Scores with alpha={}: {:.4f}'.format(alpha, avg_rmse))\n",
    "        \n",
    "        # Coefficients\n",
    "        model.fit(X_features , y_target)\n",
    "        coeff = pd.Series(data=model.coef_ , index=X_features.columns )\n",
    "        colname='alpha:'+str(alpha)\n",
    "        coeff_df[colname] = coeff\n",
    "    return coeff_df"
   ]
  },
  {
   "cell_type": "code",
   "execution_count": 34,
   "metadata": {},
   "outputs": [
    {
     "name": "stdout",
     "output_type": "stream",
     "text": [
      "#######  Lasso #######\n",
      "Mean of RMSE Scores with alpha=0.07: 5.6123\n",
      "Mean of RMSE Scores with alpha=0.1: 5.6151\n",
      "Mean of RMSE Scores with alpha=0.5: 5.6691\n",
      "Mean of RMSE Scores with alpha=1: 5.7760\n",
      "Mean of RMSE Scores with alpha=3: 6.1888\n"
     ]
    }
   ],
   "source": [
    "lasso_alphas = [ 0.07, 0.1, 0.5, 1, 3]\n",
    "coeff_lasso_df =get_linear_reg_eval('Lasso', alphas=lasso_alphas, X_features=X_features, y_target=y_target)"
   ]
  }
 ],
 "metadata": {
  "kernelspec": {
   "display_name": "Python 3.9.12 ('base')",
   "language": "python",
   "name": "python3"
  },
  "language_info": {
   "codemirror_mode": {
    "name": "ipython",
    "version": 3
   },
   "file_extension": ".py",
   "mimetype": "text/x-python",
   "name": "python",
   "nbconvert_exporter": "python",
   "pygments_lexer": "ipython3",
   "version": "3.9.12"
  },
  "orig_nbformat": 4,
  "vscode": {
   "interpreter": {
    "hash": "a077222d77dfe082b8f1dd562ad70e458ac2ab76993a0b248ab0476e32e9e8dd"
   }
  }
 },
 "nbformat": 4,
 "nbformat_minor": 2
}
